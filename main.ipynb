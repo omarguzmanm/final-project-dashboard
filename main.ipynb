{
 "cells": [
  {
   "cell_type": "markdown",
   "metadata": {},
   "source": [
    "# Final Project - Dashboard\n",
    "\n",
    "**Name:** Omar Alejandro Guzmán Munguía\n",
    "\n",
    "**e-mail:** omar.guzman5063@alumnos.udg.mx"
   ]
  },
  {
   "cell_type": "markdown",
   "metadata": {},
   "source": [
    "# MODULES"
   ]
  },
  {
   "cell_type": "code",
   "execution_count": 3,
   "metadata": {},
   "outputs": [
    {
     "data": {
      "text/html": [
       "<script type=\"esms-options\">{\"shimMode\": true}</script><style>*[data-root-id],\n",
       "*[data-root-id] > * {\n",
       "  box-sizing: border-box;\n",
       "  font-family: var(--jp-ui-font-family);\n",
       "  font-size: var(--jp-ui-font-size1);\n",
       "  color: var(--vscode-editor-foreground, var(--jp-ui-font-color1));\n",
       "}\n",
       "\n",
       "/* Override VSCode background color */\n",
       ".cell-output-ipywidget-background:has(\n",
       "    > .cell-output-ipywidget-background > .lm-Widget > *[data-root-id]\n",
       "  ),\n",
       ".cell-output-ipywidget-background:has(> .lm-Widget > *[data-root-id]) {\n",
       "  background-color: transparent !important;\n",
       "}\n",
       "</style>"
      ]
     },
     "metadata": {},
     "output_type": "display_data"
    },
    {
     "data": {
      "application/javascript": "(function(root) {\n  function now() {\n    return new Date();\n  }\n\n  const force = true;\n  const py_version = '3.6.0'.replace('rc', '-rc.').replace('.dev', '-dev.');\n  const reloading = false;\n  const Bokeh = root.Bokeh;\n\n  // Set a timeout for this load but only if we are not already initializing\n  if (typeof (root._bokeh_timeout) === \"undefined\" || (force || !root._bokeh_is_initializing)) {\n    root._bokeh_timeout = Date.now() + 5000;\n    root._bokeh_failed_load = false;\n  }\n\n  function run_callbacks() {\n    try {\n      root._bokeh_onload_callbacks.forEach(function(callback) {\n        if (callback != null)\n          callback();\n      });\n    } finally {\n      delete root._bokeh_onload_callbacks;\n    }\n    console.debug(\"Bokeh: all callbacks have finished\");\n  }\n\n  function load_libs(css_urls, js_urls, js_modules, js_exports, callback) {\n    if (css_urls == null) css_urls = [];\n    if (js_urls == null) js_urls = [];\n    if (js_modules == null) js_modules = [];\n    if (js_exports == null) js_exports = {};\n\n    root._bokeh_onload_callbacks.push(callback);\n\n    if (root._bokeh_is_loading > 0) {\n      // Don't load bokeh if it is still initializing\n      console.debug(\"Bokeh: BokehJS is being loaded, scheduling callback at\", now());\n      return null;\n    } else if (js_urls.length === 0 && js_modules.length === 0 && Object.keys(js_exports).length === 0) {\n      // There is nothing to load\n      run_callbacks();\n      return null;\n    }\n\n    function on_load() {\n      root._bokeh_is_loading--;\n      if (root._bokeh_is_loading === 0) {\n        console.debug(\"Bokeh: all BokehJS libraries/stylesheets loaded\");\n        run_callbacks()\n      }\n    }\n    window._bokeh_on_load = on_load\n\n    function on_error(e) {\n      const src_el = e.srcElement\n      console.error(\"failed to load \" + (src_el.href || src_el.src));\n    }\n\n    const skip = [];\n    if (window.requirejs) {\n      window.requirejs.config({'packages': {}, 'paths': {}, 'shim': {}});\n      root._bokeh_is_loading = css_urls.length + 0;\n    } else {\n      root._bokeh_is_loading = css_urls.length + js_urls.length + js_modules.length + Object.keys(js_exports).length;\n    }\n\n    const existing_stylesheets = []\n    const links = document.getElementsByTagName('link')\n    for (let i = 0; i < links.length; i++) {\n      const link = links[i]\n      if (link.href != null) {\n        existing_stylesheets.push(link.href)\n      }\n    }\n    for (let i = 0; i < css_urls.length; i++) {\n      const url = css_urls[i];\n      const escaped = encodeURI(url)\n      if (existing_stylesheets.indexOf(escaped) !== -1) {\n        on_load()\n        continue;\n      }\n      const element = document.createElement(\"link\");\n      element.onload = on_load;\n      element.onerror = on_error;\n      element.rel = \"stylesheet\";\n      element.type = \"text/css\";\n      element.href = url;\n      console.debug(\"Bokeh: injecting link tag for BokehJS stylesheet: \", url);\n      document.body.appendChild(element);\n    }    var existing_scripts = []\n    const scripts = document.getElementsByTagName('script')\n    for (let i = 0; i < scripts.length; i++) {\n      var script = scripts[i]\n      if (script.src != null) {\n        existing_scripts.push(script.src)\n      }\n    }\n    for (let i = 0; i < js_urls.length; i++) {\n      const url = js_urls[i];\n      const escaped = encodeURI(url)\n      if (skip.indexOf(escaped) !== -1 || existing_scripts.indexOf(escaped) !== -1) {\n        if (!window.requirejs) {\n          on_load();\n        }\n        continue;\n      }\n      const element = document.createElement('script');\n      element.onload = on_load;\n      element.onerror = on_error;\n      element.async = false;\n      element.src = url;\n      console.debug(\"Bokeh: injecting script tag for BokehJS library: \", url);\n      document.head.appendChild(element);\n    }\n    for (let i = 0; i < js_modules.length; i++) {\n      const url = js_modules[i];\n      const escaped = encodeURI(url)\n      if (skip.indexOf(escaped) !== -1 || existing_scripts.indexOf(escaped) !== -1) {\n        if (!window.requirejs) {\n          on_load();\n        }\n        continue;\n      }\n      var element = document.createElement('script');\n      element.onload = on_load;\n      element.onerror = on_error;\n      element.async = false;\n      element.src = url;\n      element.type = \"module\";\n      console.debug(\"Bokeh: injecting script tag for BokehJS library: \", url);\n      document.head.appendChild(element);\n    }\n    for (const name in js_exports) {\n      const url = js_exports[name];\n      const escaped = encodeURI(url)\n      if (skip.indexOf(escaped) >= 0 || root[name] != null) {\n        if (!window.requirejs) {\n          on_load();\n        }\n        continue;\n      }\n      var element = document.createElement('script');\n      element.onerror = on_error;\n      element.async = false;\n      element.type = \"module\";\n      console.debug(\"Bokeh: injecting script tag for BokehJS library: \", url);\n      element.textContent = `\n      import ${name} from \"${url}\"\n      window.${name} = ${name}\n      window._bokeh_on_load()\n      `\n      document.head.appendChild(element);\n    }\n    if (!js_urls.length && !js_modules.length) {\n      on_load()\n    }\n  };\n\n  function inject_raw_css(css) {\n    const element = document.createElement(\"style\");\n    element.appendChild(document.createTextNode(css));\n    document.body.appendChild(element);\n  }\n\n  const js_urls = [\"https://cdn.holoviz.org/panel/1.5.2/dist/bundled/reactiveesm/es-module-shims@^1.10.0/dist/es-module-shims.min.js\", \"https://cdn.bokeh.org/bokeh/release/bokeh-3.6.0.min.js\", \"https://cdn.bokeh.org/bokeh/release/bokeh-gl-3.6.0.min.js\", \"https://cdn.bokeh.org/bokeh/release/bokeh-widgets-3.6.0.min.js\", \"https://cdn.bokeh.org/bokeh/release/bokeh-tables-3.6.0.min.js\", \"https://cdn.holoviz.org/panel/1.5.2/dist/panel.min.js\"];\n  const js_modules = [];\n  const js_exports = {};\n  const css_urls = [];\n  const inline_js = [    function(Bokeh) {\n      Bokeh.set_log_level(\"info\");\n    },\nfunction(Bokeh) {} // ensure no trailing comma for IE\n  ];\n\n  function run_inline_js() {\n    if ((root.Bokeh !== undefined) || (force === true)) {\n      for (let i = 0; i < inline_js.length; i++) {\n        try {\n          inline_js[i].call(root, root.Bokeh);\n        } catch(e) {\n          if (!reloading) {\n            throw e;\n          }\n        }\n      }\n      // Cache old bokeh versions\n      if (Bokeh != undefined && !reloading) {\n        var NewBokeh = root.Bokeh;\n        if (Bokeh.versions === undefined) {\n          Bokeh.versions = new Map();\n        }\n        if (NewBokeh.version !== Bokeh.version) {\n          Bokeh.versions.set(NewBokeh.version, NewBokeh)\n        }\n        root.Bokeh = Bokeh;\n      }\n    } else if (Date.now() < root._bokeh_timeout) {\n      setTimeout(run_inline_js, 100);\n    } else if (!root._bokeh_failed_load) {\n      console.log(\"Bokeh: BokehJS failed to load within specified timeout.\");\n      root._bokeh_failed_load = true;\n    }\n    root._bokeh_is_initializing = false\n  }\n\n  function load_or_wait() {\n    // Implement a backoff loop that tries to ensure we do not load multiple\n    // versions of Bokeh and its dependencies at the same time.\n    // In recent versions we use the root._bokeh_is_initializing flag\n    // to determine whether there is an ongoing attempt to initialize\n    // bokeh, however for backward compatibility we also try to ensure\n    // that we do not start loading a newer (Panel>=1.0 and Bokeh>3) version\n    // before older versions are fully initialized.\n    if (root._bokeh_is_initializing && Date.now() > root._bokeh_timeout) {\n      // If the timeout and bokeh was not successfully loaded we reset\n      // everything and try loading again\n      root._bokeh_timeout = Date.now() + 5000;\n      root._bokeh_is_initializing = false;\n      root._bokeh_onload_callbacks = undefined;\n      root._bokeh_is_loading = 0\n      console.log(\"Bokeh: BokehJS was loaded multiple times but one version failed to initialize.\");\n      load_or_wait();\n    } else if (root._bokeh_is_initializing || (typeof root._bokeh_is_initializing === \"undefined\" && root._bokeh_onload_callbacks !== undefined)) {\n      setTimeout(load_or_wait, 100);\n    } else {\n      root._bokeh_is_initializing = true\n      root._bokeh_onload_callbacks = []\n      const bokeh_loaded = root.Bokeh != null && (root.Bokeh.version === py_version || (root.Bokeh.versions !== undefined && root.Bokeh.versions.has(py_version)));\n      if (!reloading && !bokeh_loaded) {\n        if (root.Bokeh) {\n          root.Bokeh = undefined;\n        }\n        console.debug(\"Bokeh: BokehJS not loaded, scheduling load and callback at\", now());\n      }\n      load_libs(css_urls, js_urls, js_modules, js_exports, function() {\n        console.debug(\"Bokeh: BokehJS plotting callback run at\", now());\n        run_inline_js();\n      });\n    }\n  }\n  // Give older versions of the autoload script a head-start to ensure\n  // they initialize before we start loading newer version.\n  setTimeout(load_or_wait, 100)\n}(window));",
      "application/vnd.holoviews_load.v0+json": ""
     },
     "metadata": {},
     "output_type": "display_data"
    },
    {
     "data": {
      "application/javascript": "\nif ((window.PyViz === undefined) || (window.PyViz instanceof HTMLElement)) {\n  window.PyViz = {comms: {}, comm_status:{}, kernels:{}, receivers: {}, plot_index: []}\n}\n\n\n    function JupyterCommManager() {\n    }\n\n    JupyterCommManager.prototype.register_target = function(plot_id, comm_id, msg_handler) {\n      if (window.comm_manager || ((window.Jupyter !== undefined) && (Jupyter.notebook.kernel != null))) {\n        var comm_manager = window.comm_manager || Jupyter.notebook.kernel.comm_manager;\n        comm_manager.register_target(comm_id, function(comm) {\n          comm.on_msg(msg_handler);\n        });\n      } else if ((plot_id in window.PyViz.kernels) && (window.PyViz.kernels[plot_id])) {\n        window.PyViz.kernels[plot_id].registerCommTarget(comm_id, function(comm) {\n          comm.onMsg = msg_handler;\n        });\n      } else if (typeof google != 'undefined' && google.colab.kernel != null) {\n        google.colab.kernel.comms.registerTarget(comm_id, (comm) => {\n          var messages = comm.messages[Symbol.asyncIterator]();\n          function processIteratorResult(result) {\n            var message = result.value;\n            console.log(message)\n            var content = {data: message.data, comm_id};\n            var buffers = []\n            for (var buffer of message.buffers || []) {\n              buffers.push(new DataView(buffer))\n            }\n            var metadata = message.metadata || {};\n            var msg = {content, buffers, metadata}\n            msg_handler(msg);\n            return messages.next().then(processIteratorResult);\n          }\n          return messages.next().then(processIteratorResult);\n        })\n      }\n    }\n\n    JupyterCommManager.prototype.get_client_comm = function(plot_id, comm_id, msg_handler) {\n      if (comm_id in window.PyViz.comms) {\n        return window.PyViz.comms[comm_id];\n      } else if (window.comm_manager || ((window.Jupyter !== undefined) && (Jupyter.notebook.kernel != null))) {\n        var comm_manager = window.comm_manager || Jupyter.notebook.kernel.comm_manager;\n        var comm = comm_manager.new_comm(comm_id, {}, {}, {}, comm_id);\n        if (msg_handler) {\n          comm.on_msg(msg_handler);\n        }\n      } else if ((plot_id in window.PyViz.kernels) && (window.PyViz.kernels[plot_id])) {\n        var comm = window.PyViz.kernels[plot_id].connectToComm(comm_id);\n        comm.open();\n        if (msg_handler) {\n          comm.onMsg = msg_handler;\n        }\n      } else if (typeof google != 'undefined' && google.colab.kernel != null) {\n        var comm_promise = google.colab.kernel.comms.open(comm_id)\n        comm_promise.then((comm) => {\n          window.PyViz.comms[comm_id] = comm;\n          if (msg_handler) {\n            var messages = comm.messages[Symbol.asyncIterator]();\n            function processIteratorResult(result) {\n              var message = result.value;\n              var content = {data: message.data};\n              var metadata = message.metadata || {comm_id};\n              var msg = {content, metadata}\n              msg_handler(msg);\n              return messages.next().then(processIteratorResult);\n            }\n            return messages.next().then(processIteratorResult);\n          }\n        }) \n        var sendClosure = (data, metadata, buffers, disposeOnDone) => {\n          return comm_promise.then((comm) => {\n            comm.send(data, metadata, buffers, disposeOnDone);\n          });\n        };\n        var comm = {\n          send: sendClosure\n        };\n      }\n      window.PyViz.comms[comm_id] = comm;\n      return comm;\n    }\n    window.PyViz.comm_manager = new JupyterCommManager();\n    \n\n\nvar JS_MIME_TYPE = 'application/javascript';\nvar HTML_MIME_TYPE = 'text/html';\nvar EXEC_MIME_TYPE = 'application/vnd.holoviews_exec.v0+json';\nvar CLASS_NAME = 'output';\n\n/**\n * Render data to the DOM node\n */\nfunction render(props, node) {\n  var div = document.createElement(\"div\");\n  var script = document.createElement(\"script\");\n  node.appendChild(div);\n  node.appendChild(script);\n}\n\n/**\n * Handle when a new output is added\n */\nfunction handle_add_output(event, handle) {\n  var output_area = handle.output_area;\n  var output = handle.output;\n  if ((output.data == undefined) || (!output.data.hasOwnProperty(EXEC_MIME_TYPE))) {\n    return\n  }\n  var id = output.metadata[EXEC_MIME_TYPE][\"id\"];\n  var toinsert = output_area.element.find(\".\" + CLASS_NAME.split(' ')[0]);\n  if (id !== undefined) {\n    var nchildren = toinsert.length;\n    var html_node = toinsert[nchildren-1].children[0];\n    html_node.innerHTML = output.data[HTML_MIME_TYPE];\n    var scripts = [];\n    var nodelist = html_node.querySelectorAll(\"script\");\n    for (var i in nodelist) {\n      if (nodelist.hasOwnProperty(i)) {\n        scripts.push(nodelist[i])\n      }\n    }\n\n    scripts.forEach( function (oldScript) {\n      var newScript = document.createElement(\"script\");\n      var attrs = [];\n      var nodemap = oldScript.attributes;\n      for (var j in nodemap) {\n        if (nodemap.hasOwnProperty(j)) {\n          attrs.push(nodemap[j])\n        }\n      }\n      attrs.forEach(function(attr) { newScript.setAttribute(attr.name, attr.value) });\n      newScript.appendChild(document.createTextNode(oldScript.innerHTML));\n      oldScript.parentNode.replaceChild(newScript, oldScript);\n    });\n    if (JS_MIME_TYPE in output.data) {\n      toinsert[nchildren-1].children[1].textContent = output.data[JS_MIME_TYPE];\n    }\n    output_area._hv_plot_id = id;\n    if ((window.Bokeh !== undefined) && (id in Bokeh.index)) {\n      window.PyViz.plot_index[id] = Bokeh.index[id];\n    } else {\n      window.PyViz.plot_index[id] = null;\n    }\n  } else if (output.metadata[EXEC_MIME_TYPE][\"server_id\"] !== undefined) {\n    var bk_div = document.createElement(\"div\");\n    bk_div.innerHTML = output.data[HTML_MIME_TYPE];\n    var script_attrs = bk_div.children[0].attributes;\n    for (var i = 0; i < script_attrs.length; i++) {\n      toinsert[toinsert.length - 1].childNodes[1].setAttribute(script_attrs[i].name, script_attrs[i].value);\n    }\n    // store reference to server id on output_area\n    output_area._bokeh_server_id = output.metadata[EXEC_MIME_TYPE][\"server_id\"];\n  }\n}\n\n/**\n * Handle when an output is cleared or removed\n */\nfunction handle_clear_output(event, handle) {\n  var id = handle.cell.output_area._hv_plot_id;\n  var server_id = handle.cell.output_area._bokeh_server_id;\n  if (((id === undefined) || !(id in PyViz.plot_index)) && (server_id !== undefined)) { return; }\n  var comm = window.PyViz.comm_manager.get_client_comm(\"hv-extension-comm\", \"hv-extension-comm\", function () {});\n  if (server_id !== null) {\n    comm.send({event_type: 'server_delete', 'id': server_id});\n    return;\n  } else if (comm !== null) {\n    comm.send({event_type: 'delete', 'id': id});\n  }\n  delete PyViz.plot_index[id];\n  if ((window.Bokeh !== undefined) & (id in window.Bokeh.index)) {\n    var doc = window.Bokeh.index[id].model.document\n    doc.clear();\n    const i = window.Bokeh.documents.indexOf(doc);\n    if (i > -1) {\n      window.Bokeh.documents.splice(i, 1);\n    }\n  }\n}\n\n/**\n * Handle kernel restart event\n */\nfunction handle_kernel_cleanup(event, handle) {\n  delete PyViz.comms[\"hv-extension-comm\"];\n  window.PyViz.plot_index = {}\n}\n\n/**\n * Handle update_display_data messages\n */\nfunction handle_update_output(event, handle) {\n  handle_clear_output(event, {cell: {output_area: handle.output_area}})\n  handle_add_output(event, handle)\n}\n\nfunction register_renderer(events, OutputArea) {\n  function append_mime(data, metadata, element) {\n    // create a DOM node to render to\n    var toinsert = this.create_output_subarea(\n    metadata,\n    CLASS_NAME,\n    EXEC_MIME_TYPE\n    );\n    this.keyboard_manager.register_events(toinsert);\n    // Render to node\n    var props = {data: data, metadata: metadata[EXEC_MIME_TYPE]};\n    render(props, toinsert[0]);\n    element.append(toinsert);\n    return toinsert\n  }\n\n  events.on('output_added.OutputArea', handle_add_output);\n  events.on('output_updated.OutputArea', handle_update_output);\n  events.on('clear_output.CodeCell', handle_clear_output);\n  events.on('delete.Cell', handle_clear_output);\n  events.on('kernel_ready.Kernel', handle_kernel_cleanup);\n\n  OutputArea.prototype.register_mime_type(EXEC_MIME_TYPE, append_mime, {\n    safe: true,\n    index: 0\n  });\n}\n\nif (window.Jupyter !== undefined) {\n  try {\n    var events = require('base/js/events');\n    var OutputArea = require('notebook/js/outputarea').OutputArea;\n    if (OutputArea.prototype.mime_types().indexOf(EXEC_MIME_TYPE) == -1) {\n      register_renderer(events, OutputArea);\n    }\n  } catch(err) {\n  }\n}\n",
      "application/vnd.holoviews_load.v0+json": ""
     },
     "metadata": {},
     "output_type": "display_data"
    },
    {
     "data": {
      "application/vnd.holoviews_exec.v0+json": "",
      "text/html": [
       "<div id='2e2ac87b-5a7a-4c85-8774-e5c05c256d3f'>\n",
       "  <div id=\"f4d74e06-0a61-4191-969d-687f5d6a1aa1\" data-root-id=\"2e2ac87b-5a7a-4c85-8774-e5c05c256d3f\" style=\"display: contents;\"></div>\n",
       "</div>\n",
       "<script type=\"application/javascript\">(function(root) {\n",
       "  var docs_json = {\"a1aa3904-3436-4b5b-b3ea-957db8d4dedf\":{\"version\":\"3.6.0\",\"title\":\"Bokeh Application\",\"roots\":[{\"type\":\"object\",\"name\":\"panel.models.browser.BrowserInfo\",\"id\":\"2e2ac87b-5a7a-4c85-8774-e5c05c256d3f\"},{\"type\":\"object\",\"name\":\"panel.models.comm_manager.CommManager\",\"id\":\"f5668050-2115-4ace-acdc-e20735fcbfb0\",\"attributes\":{\"plot_id\":\"2e2ac87b-5a7a-4c85-8774-e5c05c256d3f\",\"comm_id\":\"5323f55d66ba4365a6b1c702b9a2f356\",\"client_comm_id\":\"12850f4fc762483aa78dfa501bfb6c74\"}}],\"defs\":[{\"type\":\"model\",\"name\":\"ReactiveHTML1\"},{\"type\":\"model\",\"name\":\"FlexBox1\",\"properties\":[{\"name\":\"align_content\",\"kind\":\"Any\",\"default\":\"flex-start\"},{\"name\":\"align_items\",\"kind\":\"Any\",\"default\":\"flex-start\"},{\"name\":\"flex_direction\",\"kind\":\"Any\",\"default\":\"row\"},{\"name\":\"flex_wrap\",\"kind\":\"Any\",\"default\":\"wrap\"},{\"name\":\"gap\",\"kind\":\"Any\",\"default\":\"\"},{\"name\":\"justify_content\",\"kind\":\"Any\",\"default\":\"flex-start\"}]},{\"type\":\"model\",\"name\":\"FloatPanel1\",\"properties\":[{\"name\":\"config\",\"kind\":\"Any\",\"default\":{\"type\":\"map\"}},{\"name\":\"contained\",\"kind\":\"Any\",\"default\":true},{\"name\":\"position\",\"kind\":\"Any\",\"default\":\"right-top\"},{\"name\":\"offsetx\",\"kind\":\"Any\",\"default\":null},{\"name\":\"offsety\",\"kind\":\"Any\",\"default\":null},{\"name\":\"theme\",\"kind\":\"Any\",\"default\":\"primary\"},{\"name\":\"status\",\"kind\":\"Any\",\"default\":\"normalized\"}]},{\"type\":\"model\",\"name\":\"GridStack1\",\"properties\":[{\"name\":\"mode\",\"kind\":\"Any\",\"default\":\"warn\"},{\"name\":\"ncols\",\"kind\":\"Any\",\"default\":null},{\"name\":\"nrows\",\"kind\":\"Any\",\"default\":null},{\"name\":\"allow_resize\",\"kind\":\"Any\",\"default\":true},{\"name\":\"allow_drag\",\"kind\":\"Any\",\"default\":true},{\"name\":\"state\",\"kind\":\"Any\",\"default\":[]}]},{\"type\":\"model\",\"name\":\"drag1\",\"properties\":[{\"name\":\"slider_width\",\"kind\":\"Any\",\"default\":5},{\"name\":\"slider_color\",\"kind\":\"Any\",\"default\":\"black\"},{\"name\":\"value\",\"kind\":\"Any\",\"default\":50}]},{\"type\":\"model\",\"name\":\"click1\",\"properties\":[{\"name\":\"terminal_output\",\"kind\":\"Any\",\"default\":\"\"},{\"name\":\"debug_name\",\"kind\":\"Any\",\"default\":\"\"},{\"name\":\"clears\",\"kind\":\"Any\",\"default\":0}]},{\"type\":\"model\",\"name\":\"FastWrapper1\",\"properties\":[{\"name\":\"object\",\"kind\":\"Any\",\"default\":null},{\"name\":\"style\",\"kind\":\"Any\",\"default\":null}]},{\"type\":\"model\",\"name\":\"NotificationAreaBase1\",\"properties\":[{\"name\":\"js_events\",\"kind\":\"Any\",\"default\":{\"type\":\"map\"}},{\"name\":\"position\",\"kind\":\"Any\",\"default\":\"bottom-right\"},{\"name\":\"_clear\",\"kind\":\"Any\",\"default\":0}]},{\"type\":\"model\",\"name\":\"NotificationArea1\",\"properties\":[{\"name\":\"js_events\",\"kind\":\"Any\",\"default\":{\"type\":\"map\"}},{\"name\":\"notifications\",\"kind\":\"Any\",\"default\":[]},{\"name\":\"position\",\"kind\":\"Any\",\"default\":\"bottom-right\"},{\"name\":\"_clear\",\"kind\":\"Any\",\"default\":0},{\"name\":\"types\",\"kind\":\"Any\",\"default\":[{\"type\":\"map\",\"entries\":[[\"type\",\"warning\"],[\"background\",\"#ffc107\"],[\"icon\",{\"type\":\"map\",\"entries\":[[\"className\",\"fas fa-exclamation-triangle\"],[\"tagName\",\"i\"],[\"color\",\"white\"]]}]]},{\"type\":\"map\",\"entries\":[[\"type\",\"info\"],[\"background\",\"#007bff\"],[\"icon\",{\"type\":\"map\",\"entries\":[[\"className\",\"fas fa-info-circle\"],[\"tagName\",\"i\"],[\"color\",\"white\"]]}]]}]}]},{\"type\":\"model\",\"name\":\"Notification\",\"properties\":[{\"name\":\"background\",\"kind\":\"Any\",\"default\":null},{\"name\":\"duration\",\"kind\":\"Any\",\"default\":3000},{\"name\":\"icon\",\"kind\":\"Any\",\"default\":null},{\"name\":\"message\",\"kind\":\"Any\",\"default\":\"\"},{\"name\":\"notification_type\",\"kind\":\"Any\",\"default\":null},{\"name\":\"_destroyed\",\"kind\":\"Any\",\"default\":false}]},{\"type\":\"model\",\"name\":\"TemplateActions1\",\"properties\":[{\"name\":\"open_modal\",\"kind\":\"Any\",\"default\":0},{\"name\":\"close_modal\",\"kind\":\"Any\",\"default\":0}]},{\"type\":\"model\",\"name\":\"BootstrapTemplateActions1\",\"properties\":[{\"name\":\"open_modal\",\"kind\":\"Any\",\"default\":0},{\"name\":\"close_modal\",\"kind\":\"Any\",\"default\":0}]},{\"type\":\"model\",\"name\":\"TemplateEditor1\",\"properties\":[{\"name\":\"layout\",\"kind\":\"Any\",\"default\":[]}]},{\"type\":\"model\",\"name\":\"MaterialTemplateActions1\",\"properties\":[{\"name\":\"open_modal\",\"kind\":\"Any\",\"default\":0},{\"name\":\"close_modal\",\"kind\":\"Any\",\"default\":0}]},{\"type\":\"model\",\"name\":\"ReactiveESM1\"},{\"type\":\"model\",\"name\":\"JSComponent1\"},{\"type\":\"model\",\"name\":\"ReactComponent1\"},{\"type\":\"model\",\"name\":\"AnyWidgetComponent1\"},{\"type\":\"model\",\"name\":\"request_value1\",\"properties\":[{\"name\":\"fill\",\"kind\":\"Any\",\"default\":\"none\"},{\"name\":\"_synced\",\"kind\":\"Any\",\"default\":null},{\"name\":\"_request_sync\",\"kind\":\"Any\",\"default\":0}]}]}};\n",
       "  var render_items = [{\"docid\":\"a1aa3904-3436-4b5b-b3ea-957db8d4dedf\",\"roots\":{\"2e2ac87b-5a7a-4c85-8774-e5c05c256d3f\":\"f4d74e06-0a61-4191-969d-687f5d6a1aa1\"},\"root_ids\":[\"2e2ac87b-5a7a-4c85-8774-e5c05c256d3f\"]}];\n",
       "  var docs = Object.values(docs_json)\n",
       "  if (!docs) {\n",
       "    return\n",
       "  }\n",
       "  const py_version = docs[0].version.replace('rc', '-rc.').replace('.dev', '-dev.')\n",
       "  async function embed_document(root) {\n",
       "    var Bokeh = get_bokeh(root)\n",
       "    await Bokeh.embed.embed_items_notebook(docs_json, render_items);\n",
       "    for (const render_item of render_items) {\n",
       "      for (const root_id of render_item.root_ids) {\n",
       "\tconst id_el = document.getElementById(root_id)\n",
       "\tif (id_el.children.length && id_el.children[0].hasAttribute('data-root-id')) {\n",
       "\t  const root_el = id_el.children[0]\n",
       "\t  root_el.id = root_el.id + '-rendered'\n",
       "\t  for (const child of root_el.children) {\n",
       "            // Ensure JupyterLab does not capture keyboard shortcuts\n",
       "            // see: https://jupyterlab.readthedocs.io/en/4.1.x/extension/notebook.html#keyboard-interaction-model\n",
       "\t    child.setAttribute('data-lm-suppress-shortcuts', 'true')\n",
       "\t  }\n",
       "\t}\n",
       "      }\n",
       "    }\n",
       "  }\n",
       "  function get_bokeh(root) {\n",
       "    if (root.Bokeh === undefined) {\n",
       "      return null\n",
       "    } else if (root.Bokeh.version !== py_version) {\n",
       "      if (root.Bokeh.versions === undefined || !root.Bokeh.versions.has(py_version)) {\n",
       "\treturn null\n",
       "      }\n",
       "      return root.Bokeh.versions.get(py_version);\n",
       "    } else if (root.Bokeh.version === py_version) {\n",
       "      return root.Bokeh\n",
       "    }\n",
       "    return null\n",
       "  }\n",
       "  function is_loaded(root) {\n",
       "    var Bokeh = get_bokeh(root)\n",
       "    return (Bokeh != null && Bokeh.Panel !== undefined)\n",
       "  }\n",
       "  if (is_loaded(root)) {\n",
       "    embed_document(root);\n",
       "  } else {\n",
       "    var attempts = 0;\n",
       "    var timer = setInterval(function(root) {\n",
       "      if (is_loaded(root)) {\n",
       "        clearInterval(timer);\n",
       "        embed_document(root);\n",
       "      } else if (document.readyState == \"complete\") {\n",
       "        attempts++;\n",
       "        if (attempts > 200) {\n",
       "          clearInterval(timer);\n",
       "\t  var Bokeh = get_bokeh(root)\n",
       "\t  if (Bokeh == null || Bokeh.Panel == null) {\n",
       "            console.warn(\"Panel: ERROR: Unable to run Panel code because Bokeh or Panel library is missing\");\n",
       "\t  } else {\n",
       "\t    console.warn(\"Panel: WARNING: Attempting to render but not all required libraries could be resolved.\")\n",
       "\t    embed_document(root)\n",
       "\t  }\n",
       "        }\n",
       "      }\n",
       "    }, 25, root)\n",
       "  }\n",
       "})(window);</script>"
      ]
     },
     "metadata": {
      "application/vnd.holoviews_exec.v0+json": {
       "id": "2e2ac87b-5a7a-4c85-8774-e5c05c256d3f"
      }
     },
     "output_type": "display_data"
    },
    {
     "data": {
      "text/html": [
       "<script type=\"esms-options\">{\"shimMode\": true}</script><style>*[data-root-id],\n",
       "*[data-root-id] > * {\n",
       "  box-sizing: border-box;\n",
       "  font-family: var(--jp-ui-font-family);\n",
       "  font-size: var(--jp-ui-font-size1);\n",
       "  color: var(--vscode-editor-foreground, var(--jp-ui-font-color1));\n",
       "}\n",
       "\n",
       "/* Override VSCode background color */\n",
       ".cell-output-ipywidget-background:has(\n",
       "    > .cell-output-ipywidget-background > .lm-Widget > *[data-root-id]\n",
       "  ),\n",
       ".cell-output-ipywidget-background:has(> .lm-Widget > *[data-root-id]) {\n",
       "  background-color: transparent !important;\n",
       "}\n",
       "</style>"
      ]
     },
     "metadata": {},
     "output_type": "display_data"
    },
    {
     "data": {
      "application/javascript": "(function(root) {\n  function now() {\n    return new Date();\n  }\n\n  const force = false;\n  const py_version = '3.6.0'.replace('rc', '-rc.').replace('.dev', '-dev.');\n  const reloading = true;\n  const Bokeh = root.Bokeh;\n\n  // Set a timeout for this load but only if we are not already initializing\n  if (typeof (root._bokeh_timeout) === \"undefined\" || (force || !root._bokeh_is_initializing)) {\n    root._bokeh_timeout = Date.now() + 5000;\n    root._bokeh_failed_load = false;\n  }\n\n  function run_callbacks() {\n    try {\n      root._bokeh_onload_callbacks.forEach(function(callback) {\n        if (callback != null)\n          callback();\n      });\n    } finally {\n      delete root._bokeh_onload_callbacks;\n    }\n    console.debug(\"Bokeh: all callbacks have finished\");\n  }\n\n  function load_libs(css_urls, js_urls, js_modules, js_exports, callback) {\n    if (css_urls == null) css_urls = [];\n    if (js_urls == null) js_urls = [];\n    if (js_modules == null) js_modules = [];\n    if (js_exports == null) js_exports = {};\n\n    root._bokeh_onload_callbacks.push(callback);\n\n    if (root._bokeh_is_loading > 0) {\n      // Don't load bokeh if it is still initializing\n      console.debug(\"Bokeh: BokehJS is being loaded, scheduling callback at\", now());\n      return null;\n    } else if (js_urls.length === 0 && js_modules.length === 0 && Object.keys(js_exports).length === 0) {\n      // There is nothing to load\n      run_callbacks();\n      return null;\n    }\n\n    function on_load() {\n      root._bokeh_is_loading--;\n      if (root._bokeh_is_loading === 0) {\n        console.debug(\"Bokeh: all BokehJS libraries/stylesheets loaded\");\n        run_callbacks()\n      }\n    }\n    window._bokeh_on_load = on_load\n\n    function on_error(e) {\n      const src_el = e.srcElement\n      console.error(\"failed to load \" + (src_el.href || src_el.src));\n    }\n\n    const skip = [];\n    if (window.requirejs) {\n      window.requirejs.config({'packages': {}, 'paths': {'plotly': 'https://cdn.plot.ly/plotly-2.31.1.min'}, 'shim': {}});\n      require([\"plotly\"], function(Plotly) {\n        window.Plotly = Plotly\n        on_load()\n      })\n      root._bokeh_is_loading = css_urls.length + 1;\n    } else {\n      root._bokeh_is_loading = css_urls.length + js_urls.length + js_modules.length + Object.keys(js_exports).length;\n    }\n\n    const existing_stylesheets = []\n    const links = document.getElementsByTagName('link')\n    for (let i = 0; i < links.length; i++) {\n      const link = links[i]\n      if (link.href != null) {\n        existing_stylesheets.push(link.href)\n      }\n    }\n    for (let i = 0; i < css_urls.length; i++) {\n      const url = css_urls[i];\n      const escaped = encodeURI(url)\n      if (existing_stylesheets.indexOf(escaped) !== -1) {\n        on_load()\n        continue;\n      }\n      const element = document.createElement(\"link\");\n      element.onload = on_load;\n      element.onerror = on_error;\n      element.rel = \"stylesheet\";\n      element.type = \"text/css\";\n      element.href = url;\n      console.debug(\"Bokeh: injecting link tag for BokehJS stylesheet: \", url);\n      document.body.appendChild(element);\n    }    if (((window.Plotly !== undefined) && (!(window.Plotly instanceof HTMLElement))) || window.requirejs) {\n      var urls = ['https://cdn.holoviz.org/panel/1.5.2/dist/bundled/plotlyplot/plotly-2.31.1.min.js'];\n      for (var i = 0; i < urls.length; i++) {\n        skip.push(encodeURI(urls[i]))\n      }\n    }    var existing_scripts = []\n    const scripts = document.getElementsByTagName('script')\n    for (let i = 0; i < scripts.length; i++) {\n      var script = scripts[i]\n      if (script.src != null) {\n        existing_scripts.push(script.src)\n      }\n    }\n    for (let i = 0; i < js_urls.length; i++) {\n      const url = js_urls[i];\n      const escaped = encodeURI(url)\n      if (skip.indexOf(escaped) !== -1 || existing_scripts.indexOf(escaped) !== -1) {\n        if (!window.requirejs) {\n          on_load();\n        }\n        continue;\n      }\n      const element = document.createElement('script');\n      element.onload = on_load;\n      element.onerror = on_error;\n      element.async = false;\n      element.src = url;\n      console.debug(\"Bokeh: injecting script tag for BokehJS library: \", url);\n      document.head.appendChild(element);\n    }\n    for (let i = 0; i < js_modules.length; i++) {\n      const url = js_modules[i];\n      const escaped = encodeURI(url)\n      if (skip.indexOf(escaped) !== -1 || existing_scripts.indexOf(escaped) !== -1) {\n        if (!window.requirejs) {\n          on_load();\n        }\n        continue;\n      }\n      var element = document.createElement('script');\n      element.onload = on_load;\n      element.onerror = on_error;\n      element.async = false;\n      element.src = url;\n      element.type = \"module\";\n      console.debug(\"Bokeh: injecting script tag for BokehJS library: \", url);\n      document.head.appendChild(element);\n    }\n    for (const name in js_exports) {\n      const url = js_exports[name];\n      const escaped = encodeURI(url)\n      if (skip.indexOf(escaped) >= 0 || root[name] != null) {\n        if (!window.requirejs) {\n          on_load();\n        }\n        continue;\n      }\n      var element = document.createElement('script');\n      element.onerror = on_error;\n      element.async = false;\n      element.type = \"module\";\n      console.debug(\"Bokeh: injecting script tag for BokehJS library: \", url);\n      element.textContent = `\n      import ${name} from \"${url}\"\n      window.${name} = ${name}\n      window._bokeh_on_load()\n      `\n      document.head.appendChild(element);\n    }\n    if (!js_urls.length && !js_modules.length) {\n      on_load()\n    }\n  };\n\n  function inject_raw_css(css) {\n    const element = document.createElement(\"style\");\n    element.appendChild(document.createTextNode(css));\n    document.body.appendChild(element);\n  }\n\n  const js_urls = [\"https://cdn.holoviz.org/panel/1.5.2/dist/bundled/reactiveesm/es-module-shims@^1.10.0/dist/es-module-shims.min.js\", \"https://cdn.holoviz.org/panel/1.5.2/dist/bundled/jquery/jquery.slim.min.js\", \"https://cdn.holoviz.org/panel/1.5.2/dist/bundled/plotlyplot/plotly-2.31.1.min.js\"];\n  const js_modules = [];\n  const js_exports = {};\n  const css_urls = [\"https://cdn.holoviz.org/panel/1.5.2/dist/bundled/plotlyplot/mapbox-gl-js/v3.0.1/mapbox-gl.css?v=1.5.2\"];\n  const inline_js = [    function(Bokeh) {\n      Bokeh.set_log_level(\"info\");\n    },\nfunction(Bokeh) {} // ensure no trailing comma for IE\n  ];\n\n  function run_inline_js() {\n    if ((root.Bokeh !== undefined) || (force === true)) {\n      for (let i = 0; i < inline_js.length; i++) {\n        try {\n          inline_js[i].call(root, root.Bokeh);\n        } catch(e) {\n          if (!reloading) {\n            throw e;\n          }\n        }\n      }\n      // Cache old bokeh versions\n      if (Bokeh != undefined && !reloading) {\n        var NewBokeh = root.Bokeh;\n        if (Bokeh.versions === undefined) {\n          Bokeh.versions = new Map();\n        }\n        if (NewBokeh.version !== Bokeh.version) {\n          Bokeh.versions.set(NewBokeh.version, NewBokeh)\n        }\n        root.Bokeh = Bokeh;\n      }\n    } else if (Date.now() < root._bokeh_timeout) {\n      setTimeout(run_inline_js, 100);\n    } else if (!root._bokeh_failed_load) {\n      console.log(\"Bokeh: BokehJS failed to load within specified timeout.\");\n      root._bokeh_failed_load = true;\n    }\n    root._bokeh_is_initializing = false\n  }\n\n  function load_or_wait() {\n    // Implement a backoff loop that tries to ensure we do not load multiple\n    // versions of Bokeh and its dependencies at the same time.\n    // In recent versions we use the root._bokeh_is_initializing flag\n    // to determine whether there is an ongoing attempt to initialize\n    // bokeh, however for backward compatibility we also try to ensure\n    // that we do not start loading a newer (Panel>=1.0 and Bokeh>3) version\n    // before older versions are fully initialized.\n    if (root._bokeh_is_initializing && Date.now() > root._bokeh_timeout) {\n      // If the timeout and bokeh was not successfully loaded we reset\n      // everything and try loading again\n      root._bokeh_timeout = Date.now() + 5000;\n      root._bokeh_is_initializing = false;\n      root._bokeh_onload_callbacks = undefined;\n      root._bokeh_is_loading = 0\n      console.log(\"Bokeh: BokehJS was loaded multiple times but one version failed to initialize.\");\n      load_or_wait();\n    } else if (root._bokeh_is_initializing || (typeof root._bokeh_is_initializing === \"undefined\" && root._bokeh_onload_callbacks !== undefined)) {\n      setTimeout(load_or_wait, 100);\n    } else {\n      root._bokeh_is_initializing = true\n      root._bokeh_onload_callbacks = []\n      const bokeh_loaded = root.Bokeh != null && (root.Bokeh.version === py_version || (root.Bokeh.versions !== undefined && root.Bokeh.versions.has(py_version)));\n      if (!reloading && !bokeh_loaded) {\n        if (root.Bokeh) {\n          root.Bokeh = undefined;\n        }\n        console.debug(\"Bokeh: BokehJS not loaded, scheduling load and callback at\", now());\n      }\n      load_libs(css_urls, js_urls, js_modules, js_exports, function() {\n        console.debug(\"Bokeh: BokehJS plotting callback run at\", now());\n        run_inline_js();\n      });\n    }\n  }\n  // Give older versions of the autoload script a head-start to ensure\n  // they initialize before we start loading newer version.\n  setTimeout(load_or_wait, 100)\n}(window));",
      "application/vnd.holoviews_load.v0+json": ""
     },
     "metadata": {},
     "output_type": "display_data"
    },
    {
     "data": {
      "application/javascript": "\nif ((window.PyViz === undefined) || (window.PyViz instanceof HTMLElement)) {\n  window.PyViz = {comms: {}, comm_status:{}, kernels:{}, receivers: {}, plot_index: []}\n}\n\n\n    function JupyterCommManager() {\n    }\n\n    JupyterCommManager.prototype.register_target = function(plot_id, comm_id, msg_handler) {\n      if (window.comm_manager || ((window.Jupyter !== undefined) && (Jupyter.notebook.kernel != null))) {\n        var comm_manager = window.comm_manager || Jupyter.notebook.kernel.comm_manager;\n        comm_manager.register_target(comm_id, function(comm) {\n          comm.on_msg(msg_handler);\n        });\n      } else if ((plot_id in window.PyViz.kernels) && (window.PyViz.kernels[plot_id])) {\n        window.PyViz.kernels[plot_id].registerCommTarget(comm_id, function(comm) {\n          comm.onMsg = msg_handler;\n        });\n      } else if (typeof google != 'undefined' && google.colab.kernel != null) {\n        google.colab.kernel.comms.registerTarget(comm_id, (comm) => {\n          var messages = comm.messages[Symbol.asyncIterator]();\n          function processIteratorResult(result) {\n            var message = result.value;\n            console.log(message)\n            var content = {data: message.data, comm_id};\n            var buffers = []\n            for (var buffer of message.buffers || []) {\n              buffers.push(new DataView(buffer))\n            }\n            var metadata = message.metadata || {};\n            var msg = {content, buffers, metadata}\n            msg_handler(msg);\n            return messages.next().then(processIteratorResult);\n          }\n          return messages.next().then(processIteratorResult);\n        })\n      }\n    }\n\n    JupyterCommManager.prototype.get_client_comm = function(plot_id, comm_id, msg_handler) {\n      if (comm_id in window.PyViz.comms) {\n        return window.PyViz.comms[comm_id];\n      } else if (window.comm_manager || ((window.Jupyter !== undefined) && (Jupyter.notebook.kernel != null))) {\n        var comm_manager = window.comm_manager || Jupyter.notebook.kernel.comm_manager;\n        var comm = comm_manager.new_comm(comm_id, {}, {}, {}, comm_id);\n        if (msg_handler) {\n          comm.on_msg(msg_handler);\n        }\n      } else if ((plot_id in window.PyViz.kernels) && (window.PyViz.kernels[plot_id])) {\n        var comm = window.PyViz.kernels[plot_id].connectToComm(comm_id);\n        comm.open();\n        if (msg_handler) {\n          comm.onMsg = msg_handler;\n        }\n      } else if (typeof google != 'undefined' && google.colab.kernel != null) {\n        var comm_promise = google.colab.kernel.comms.open(comm_id)\n        comm_promise.then((comm) => {\n          window.PyViz.comms[comm_id] = comm;\n          if (msg_handler) {\n            var messages = comm.messages[Symbol.asyncIterator]();\n            function processIteratorResult(result) {\n              var message = result.value;\n              var content = {data: message.data};\n              var metadata = message.metadata || {comm_id};\n              var msg = {content, metadata}\n              msg_handler(msg);\n              return messages.next().then(processIteratorResult);\n            }\n            return messages.next().then(processIteratorResult);\n          }\n        }) \n        var sendClosure = (data, metadata, buffers, disposeOnDone) => {\n          return comm_promise.then((comm) => {\n            comm.send(data, metadata, buffers, disposeOnDone);\n          });\n        };\n        var comm = {\n          send: sendClosure\n        };\n      }\n      window.PyViz.comms[comm_id] = comm;\n      return comm;\n    }\n    window.PyViz.comm_manager = new JupyterCommManager();\n    \n\n\nvar JS_MIME_TYPE = 'application/javascript';\nvar HTML_MIME_TYPE = 'text/html';\nvar EXEC_MIME_TYPE = 'application/vnd.holoviews_exec.v0+json';\nvar CLASS_NAME = 'output';\n\n/**\n * Render data to the DOM node\n */\nfunction render(props, node) {\n  var div = document.createElement(\"div\");\n  var script = document.createElement(\"script\");\n  node.appendChild(div);\n  node.appendChild(script);\n}\n\n/**\n * Handle when a new output is added\n */\nfunction handle_add_output(event, handle) {\n  var output_area = handle.output_area;\n  var output = handle.output;\n  if ((output.data == undefined) || (!output.data.hasOwnProperty(EXEC_MIME_TYPE))) {\n    return\n  }\n  var id = output.metadata[EXEC_MIME_TYPE][\"id\"];\n  var toinsert = output_area.element.find(\".\" + CLASS_NAME.split(' ')[0]);\n  if (id !== undefined) {\n    var nchildren = toinsert.length;\n    var html_node = toinsert[nchildren-1].children[0];\n    html_node.innerHTML = output.data[HTML_MIME_TYPE];\n    var scripts = [];\n    var nodelist = html_node.querySelectorAll(\"script\");\n    for (var i in nodelist) {\n      if (nodelist.hasOwnProperty(i)) {\n        scripts.push(nodelist[i])\n      }\n    }\n\n    scripts.forEach( function (oldScript) {\n      var newScript = document.createElement(\"script\");\n      var attrs = [];\n      var nodemap = oldScript.attributes;\n      for (var j in nodemap) {\n        if (nodemap.hasOwnProperty(j)) {\n          attrs.push(nodemap[j])\n        }\n      }\n      attrs.forEach(function(attr) { newScript.setAttribute(attr.name, attr.value) });\n      newScript.appendChild(document.createTextNode(oldScript.innerHTML));\n      oldScript.parentNode.replaceChild(newScript, oldScript);\n    });\n    if (JS_MIME_TYPE in output.data) {\n      toinsert[nchildren-1].children[1].textContent = output.data[JS_MIME_TYPE];\n    }\n    output_area._hv_plot_id = id;\n    if ((window.Bokeh !== undefined) && (id in Bokeh.index)) {\n      window.PyViz.plot_index[id] = Bokeh.index[id];\n    } else {\n      window.PyViz.plot_index[id] = null;\n    }\n  } else if (output.metadata[EXEC_MIME_TYPE][\"server_id\"] !== undefined) {\n    var bk_div = document.createElement(\"div\");\n    bk_div.innerHTML = output.data[HTML_MIME_TYPE];\n    var script_attrs = bk_div.children[0].attributes;\n    for (var i = 0; i < script_attrs.length; i++) {\n      toinsert[toinsert.length - 1].childNodes[1].setAttribute(script_attrs[i].name, script_attrs[i].value);\n    }\n    // store reference to server id on output_area\n    output_area._bokeh_server_id = output.metadata[EXEC_MIME_TYPE][\"server_id\"];\n  }\n}\n\n/**\n * Handle when an output is cleared or removed\n */\nfunction handle_clear_output(event, handle) {\n  var id = handle.cell.output_area._hv_plot_id;\n  var server_id = handle.cell.output_area._bokeh_server_id;\n  if (((id === undefined) || !(id in PyViz.plot_index)) && (server_id !== undefined)) { return; }\n  var comm = window.PyViz.comm_manager.get_client_comm(\"hv-extension-comm\", \"hv-extension-comm\", function () {});\n  if (server_id !== null) {\n    comm.send({event_type: 'server_delete', 'id': server_id});\n    return;\n  } else if (comm !== null) {\n    comm.send({event_type: 'delete', 'id': id});\n  }\n  delete PyViz.plot_index[id];\n  if ((window.Bokeh !== undefined) & (id in window.Bokeh.index)) {\n    var doc = window.Bokeh.index[id].model.document\n    doc.clear();\n    const i = window.Bokeh.documents.indexOf(doc);\n    if (i > -1) {\n      window.Bokeh.documents.splice(i, 1);\n    }\n  }\n}\n\n/**\n * Handle kernel restart event\n */\nfunction handle_kernel_cleanup(event, handle) {\n  delete PyViz.comms[\"hv-extension-comm\"];\n  window.PyViz.plot_index = {}\n}\n\n/**\n * Handle update_display_data messages\n */\nfunction handle_update_output(event, handle) {\n  handle_clear_output(event, {cell: {output_area: handle.output_area}})\n  handle_add_output(event, handle)\n}\n\nfunction register_renderer(events, OutputArea) {\n  function append_mime(data, metadata, element) {\n    // create a DOM node to render to\n    var toinsert = this.create_output_subarea(\n    metadata,\n    CLASS_NAME,\n    EXEC_MIME_TYPE\n    );\n    this.keyboard_manager.register_events(toinsert);\n    // Render to node\n    var props = {data: data, metadata: metadata[EXEC_MIME_TYPE]};\n    render(props, toinsert[0]);\n    element.append(toinsert);\n    return toinsert\n  }\n\n  events.on('output_added.OutputArea', handle_add_output);\n  events.on('output_updated.OutputArea', handle_update_output);\n  events.on('clear_output.CodeCell', handle_clear_output);\n  events.on('delete.Cell', handle_clear_output);\n  events.on('kernel_ready.Kernel', handle_kernel_cleanup);\n\n  OutputArea.prototype.register_mime_type(EXEC_MIME_TYPE, append_mime, {\n    safe: true,\n    index: 0\n  });\n}\n\nif (window.Jupyter !== undefined) {\n  try {\n    var events = require('base/js/events');\n    var OutputArea = require('notebook/js/outputarea').OutputArea;\n    if (OutputArea.prototype.mime_types().indexOf(EXEC_MIME_TYPE) == -1) {\n      register_renderer(events, OutputArea);\n    }\n  } catch(err) {\n  }\n}\n",
      "application/vnd.holoviews_load.v0+json": ""
     },
     "metadata": {},
     "output_type": "display_data"
    }
   ],
   "source": [
    "import panel as pn\n",
    "pn.extension()\n",
    "\n",
    "import json\n",
    "import pandas as pd\n",
    "import plotly.graph_objects as go\n",
    "import plotly.express as px\n",
    "\n",
    "import panel.widgets as pnw\n",
    "pn.extension('plotly')"
   ]
  },
  {
   "cell_type": "markdown",
   "metadata": {},
   "source": [
    "# FUNCTIONS"
   ]
  },
  {
   "cell_type": "code",
   "execution_count": null,
   "metadata": {},
   "outputs": [],
   "source": [
    "def load_data(results_file_path):\n",
    "    \"\"\"\n",
    "    Load data from a JSON file and return it as a dictionary.\n",
    "    Args:\n",
    "        results_file_path (str): Path to the JSON file.\n",
    "    Returns:\n",
    "        dict: Data loaded from the JSON file.\n",
    "    \"\"\"\n",
    "    try:\n",
    "        with open(results_file_path, 'r') as file:\n",
    "            return json.load(file)\n",
    "    except Exception as e:\n",
    "        print(f\"Error loading data: {e}\")"
   ]
  },
  {
   "cell_type": "code",
   "execution_count": 6,
   "metadata": {},
   "outputs": [],
   "source": [
    "def extract_model_names(json_path):\n",
    "    \"\"\"\n",
    "    Extract unique model names from a JSON file\n",
    "    \n",
    "    Args:\n",
    "        json_path (str or dict): Path to the JSON file\n",
    "        \n",
    "    Returns:\n",
    "        list: A list containing unique model names.\n",
    "    \"\"\"\n",
    "    try:\n",
    "        with open(json_path, 'r') as file:\n",
    "            data = json.load(file)\n",
    "            \n",
    "        unique_models = set()\n",
    "        \n",
    "        for category in data:\n",
    "            for model in category.get(\"models\", []):\n",
    "                if \"model\" in model:\n",
    "                    model_name = model[\"model\"]\n",
    "                    \n",
    "                    if \"size\" in model and model[\"size\"] != \"N/A\":\n",
    "                        unique_identifier = f\"{model_name} {model['size']}\"\n",
    "                    else:\n",
    "                        unique_identifier = model_name\n",
    "                        \n",
    "                    unique_models.add(unique_identifier)\n",
    "        \n",
    "        return list(unique_models)\n",
    "    \n",
    "    except Exception as e:\n",
    "        print(f\"Error: {str(e)}\")\n",
    "        return []"
   ]
  },
  {
   "cell_type": "code",
   "execution_count": 7,
   "metadata": {},
   "outputs": [],
   "source": [
    "def extract_categories(json_path):\n",
    "    \"\"\"\n",
    "    Extract category names from a JSON file.\n",
    "    \n",
    "    Args:\n",
    "        json_path (str or dict): Path to the JSON file\n",
    "        \n",
    "    Returns:\n",
    "        list: A list containing all category names.\n",
    "    \"\"\"\n",
    "    try:\n",
    "        with open(json_path, 'r') as file:\n",
    "            data = json.load(file)\n",
    "        \n",
    "        category_names = [category.get(\"category\", \"\") for category in data if \"category\" in category]\n",
    "        \n",
    "        return category_names\n",
    "    \n",
    "    except Exception as e:\n",
    "        print(f\"Error: {str(e)}\")\n",
    "        return []"
   ]
  },
  {
   "cell_type": "code",
   "execution_count": 8,
   "metadata": {},
   "outputs": [],
   "source": [
    "def extract_metrics_name(json_path):\n",
    "    \"\"\"\n",
    "    Extract unique metrics names from a JSON file.\n",
    "    \n",
    "    Args:\n",
    "        json_path (str or dict): Path to the JSON file\n",
    "        \n",
    "    Returns:\n",
    "        list: A list containing unique metrics names.\n",
    "    \"\"\"\n",
    "    try:\n",
    "        with open(json_path, 'r') as file:\n",
    "            data = json.load(file)\n",
    "            \n",
    "        metric_keys = set()\n",
    "        for key in data[0][\"models\"][0]:\n",
    "            if (key.startswith((\"pass@\", \"recall@\"))):\n",
    "                metric_keys.add(key)\n",
    "        \n",
    "        return sorted(metric_keys)\n",
    "    \n",
    "    except Exception as e:\n",
    "        print(f\"Error: {str(e)}\")\n",
    "        return []"
   ]
  },
  {
   "cell_type": "code",
   "execution_count": null,
   "metadata": {},
   "outputs": [],
   "source": [
    "def create_scatter_plot(df, x_metric_name, y_metric_name):\n",
    "    \"\"\"\n",
    "    Create a scatter plot using Plotly Express.\n",
    "    Args:\n",
    "        df (pd.DataFrame): DataFrame containing the data to plot.\n",
    "        x_metric_name (str): Name of the metric for the x-axis.\n",
    "        y_metric_name (str): Name of the metric for the y-axis.\n",
    "    Returns:\n",
    "        plotly.graph_objects.Figure: A Plotly figure object.\n",
    "    \"\"\"\n",
    "    df['model_with_size'] = df.apply(lambda x: f\"{x['model']} ({x['size']})\" if x['size'] != 'N/A' else x['model'], axis=1)\n",
    "    \n",
    "    fig = px.scatter(\n",
    "        df, \n",
    "        x=x_metric_name, \n",
    "        y=y_metric_name, \n",
    "        color='model_with_size',\n",
    "        hover_data=['model', 'size'],\n",
    "        title=f'Model Performance: {x_metric_name} vs. {y_metric_name}'\n",
    "    )\n",
    "    \n",
    "    fig.update_layout(\n",
    "        xaxis_title=x_metric_name,\n",
    "        yaxis_title=y_metric_name,\n",
    "        height=500\n",
    "    )\n",
    "    \n",
    "    return fig"
   ]
  },
  {
   "cell_type": "markdown",
   "metadata": {},
   "source": [
    "# INITIALIZATION"
   ]
  },
  {
   "cell_type": "code",
   "execution_count": null,
   "metadata": {},
   "outputs": [],
   "source": [
    "# repositories_list = extract_repository_names('data/repositories.json')\n",
    "# default_repo = repositories_list[0] if repositories_list else None\n",
    "\n",
    "models_list = extract_model_names('data/results.json')\n",
    "default_model = models_list[0] if models_list else None\n",
    "\n",
    "templates_list = extract_categories('data/results.json')\n",
    "default_template = templates_list[0] if templates_list else None\n",
    "\n",
    "metrics_list = extract_metrics_name('data/results.json')\n",
    "default_metric = metrics_list[0] if metrics_list else None"
   ]
  },
  {
   "cell_type": "code",
   "execution_count": null,
   "metadata": {},
   "outputs": [],
   "source": [
    "def create_heatmap(df):\n",
    "    \"\"\"\n",
    "    Create a heatmap using Plotly.\n",
    "    Args:\n",
    "        df (pd.DataFrame): DataFrame containing the data to plot.\n",
    "    Returns:\n",
    "        plotly.graph_objects.Figure: A Plotly figure object.\n",
    "    \"\"\"\n",
    "    df['model_with_size'] = df.apply(lambda x: f\"{x['model']} ({x['size']})\" if x['size'] != 'N/A' else x['model'], axis=1)\n",
    "    \n",
    "    pivot_df = df.pivot_table(index='model_with_size', values=metrics_list)\n",
    "    \n",
    "    fig = go.Figure(data=go.Heatmap(\n",
    "        z=pivot_df.values,\n",
    "        x=pivot_df.columns,\n",
    "        y=pivot_df.index,\n",
    "        colorscale='Viridis',\n",
    "        colorbar=dict(title='Value'),\n",
    "        hoverongaps=False\n",
    "    ))\n",
    "    \n",
    "    fig.update_layout(\n",
    "        title='Model Performance Heatmap',\n",
    "        xaxis_title='Metrics',\n",
    "        yaxis_title='Models',\n",
    "        height=500\n",
    "    )\n",
    "    \n",
    "    return fig"
   ]
  },
  {
   "cell_type": "code",
   "execution_count": null,
   "metadata": {},
   "outputs": [],
   "source": [
    "def prepare_data(data, template_value):\n",
    "    \"\"\"\n",
    "    Prepare data for visualization by filtering based on the template value.\n",
    "    Args:\n",
    "        data (list): List of dictionaries containing model performance data.\n",
    "        template_value (str): Template value to filter the data.\n",
    "    Returns:\n",
    "        pd.DataFrame: DataFrame containing the filtered data.\n",
    "    \"\"\"\n",
    "    filtered_data = [entry for entry in data if entry.get('category') == template_value]\n",
    "    \n",
    "    # List to collect all model performance data\n",
    "    all_model_data = []\n",
    "    \n",
    "    for entry in filtered_data:\n",
    "        for model_data in entry.get('models', []):\n",
    "            model_entry = {\n",
    "                'model': model_data.get('model', 'Unknown'),\n",
    "                'size': model_data.get('size', 'N/A')\n",
    "            }\n",
    "            # Add metrics\n",
    "            for metric in metrics_list:\n",
    "                if metric in model_data:\n",
    "                    model_entry[metric] = model_data[metric]\n",
    "            \n",
    "            all_model_data.append(model_entry)\n",
    "    \n",
    "    return pd.DataFrame(all_model_data)"
   ]
  },
  {
   "cell_type": "markdown",
   "metadata": {},
   "source": [
    "# WIDGETS"
   ]
  },
  {
   "cell_type": "code",
   "execution_count": 24,
   "metadata": {},
   "outputs": [],
   "source": [
    "# repositories = pnw.Select(name='Repository', width=160, options=repositories_list, value=default_repo)\n",
    "metrics = pnw.Select(name='Metric', width=160, options=metrics_list, value=default_metric)\n",
    "models = pnw.Select(name='Model', width=160, options=models_list, value=default_model)\n",
    "template = pnw.Select(name='Template', width=160, options=templates_list, value=default_template)\n",
    "plot_type = pnw.Select(name='Plot Type', width=160, options=['Heatmap', 'Scatter Plot'], value='Heatmap')\n",
    "\n",
    "x_metric = pnw.Select(name='X-Axis Metric', width=160, options=metrics_list, value=metrics_list[0])\n",
    "y_metric = pnw.Select(name='Y-Axis Metric', width=160, options=metrics_list, value=metrics_list[4] if len(metrics_list) > 4 else metrics_list[-1])"
   ]
  },
  {
   "cell_type": "code",
   "execution_count": null,
   "metadata": {},
   "outputs": [],
   "source": [
    "@pn.depends(template, x_metric, y_metric, plot_type)\n",
    "def create_visualization(template_value, x_metric_value, y_metric_value, viz_type):\n",
    "    \"\"\"\n",
    "    Create a visualization based on the selected template and metrics.\n",
    "    Args:\n",
    "        template_value (str): Selected template value.\n",
    "        x_metric_value (str): Selected x-axis metric.\n",
    "        y_metric_value (str): Selected y-axis metric.\n",
    "        viz_type (str): Type of visualization ('Heatmap' or 'Scatter Plot').\n",
    "    Returns:\n",
    "        panel.pane.Plotly: A Plotly pane containing the visualization.\n",
    "    \"\"\"\n",
    "    data = load_data('data/results.json')\n",
    "    df = prepare_data(data, template_value)\n",
    "    \n",
    "    if viz_type == 'Heatmap':\n",
    "        fig = create_heatmap(df)\n",
    "    else:  \n",
    "        fig = create_scatter_plot(df, x_metric_value, y_metric_value)\n",
    "    \n",
    "    return pn.pane.Plotly(fig)"
   ]
  },
  {
   "cell_type": "markdown",
   "metadata": {},
   "source": [
    "# PANEL"
   ]
  },
  {
   "cell_type": "code",
   "execution_count": null,
   "metadata": {},
   "outputs": [
    {
     "data": {},
     "metadata": {},
     "output_type": "display_data"
    },
    {
     "data": {
      "application/vnd.holoviews_exec.v0+json": "",
      "text/html": [
       "<div id='962ff06a-08aa-4013-87bb-07d001b3485d'>\n",
       "  <div id=\"d64dd3e7-3d56-40a4-878f-df429d66acf5\" data-root-id=\"962ff06a-08aa-4013-87bb-07d001b3485d\" style=\"display: contents;\"></div>\n",
       "</div>\n",
       "<script type=\"application/javascript\">(function(root) {\n",
       "  var docs_json = {\"bec46444-c432-4c62-aeb4-ff20fc594346\":{\"version\":\"3.6.0\",\"title\":\"Bokeh Application\",\"roots\":[{\"type\":\"object\",\"name\":\"panel.models.layout.Column\",\"id\":\"962ff06a-08aa-4013-87bb-07d001b3485d\",\"attributes\":{\"name\":\"Column00139\",\"stylesheets\":[\"\\n:host(.pn-loading):before, .pn-loading:before {\\n  background-color: #c3c3c3;\\n  mask-size: auto calc(min(50%, 400px));\\n  -webkit-mask-size: auto calc(min(50%, 400px));\\n}\",{\"type\":\"object\",\"name\":\"ImportedStyleSheet\",\"id\":\"6d27cdf4-ef8d-4f52-bef3-75c072bb67bd\",\"attributes\":{\"url\":\"https://cdn.holoviz.org/panel/1.5.2/dist/css/loading.css\"}},{\"type\":\"object\",\"name\":\"ImportedStyleSheet\",\"id\":\"56fc6702-5ed0-49b5-bb85-d57421dd6b69\",\"attributes\":{\"url\":\"https://cdn.holoviz.org/panel/1.5.2/dist/css/listpanel.css\"}},{\"type\":\"object\",\"name\":\"ImportedStyleSheet\",\"id\":\"0cc6dbc8-18f1-431b-a9ad-3eda759dd388\",\"attributes\":{\"url\":\"https://cdn.holoviz.org/panel/1.5.2/dist/bundled/theme/default.css\"}},{\"type\":\"object\",\"name\":\"ImportedStyleSheet\",\"id\":\"3f51ca6c-12a4-444f-b37d-7a38de3c9535\",\"attributes\":{\"url\":\"https://cdn.holoviz.org/panel/1.5.2/dist/bundled/theme/native.css\"}}],\"width\":800,\"min_width\":800,\"margin\":0,\"align\":\"start\",\"children\":[{\"type\":\"object\",\"name\":\"panel.models.markup.HTML\",\"id\":\"faad8422-65c4-4eb0-ad6b-ecdf8c112d5d\",\"attributes\":{\"css_classes\":[\"markdown\"],\"stylesheets\":[\"\\n:host(.pn-loading):before, .pn-loading:before {\\n  background-color: #c3c3c3;\\n  mask-size: auto calc(min(50%, 400px));\\n  -webkit-mask-size: auto calc(min(50%, 400px));\\n}\",{\"id\":\"6d27cdf4-ef8d-4f52-bef3-75c072bb67bd\"},{\"type\":\"object\",\"name\":\"ImportedStyleSheet\",\"id\":\"336124ee-8d58-4fe7-9892-763bb354a120\",\"attributes\":{\"url\":\"https://cdn.holoviz.org/panel/1.5.2/dist/css/markdown.css\"}},{\"id\":\"0cc6dbc8-18f1-431b-a9ad-3eda759dd388\"},{\"id\":\"3f51ca6c-12a4-444f-b37d-7a38de3c9535\"}],\"margin\":[5,10],\"align\":\"start\",\"text\":\"&lt;h2 id=&quot;model-performance-visualization&quot;&gt;Model Performance Visualization &lt;a class=&quot;header-anchor&quot; href=&quot;#model-performance-visualization&quot;&gt;\\u00b6&lt;/a&gt;&lt;/h2&gt;\\n&lt;p&gt;Select parameters below to visualize model performance across different metrics.&lt;/p&gt;\\n&lt;ul&gt;\\n&lt;li&gt;&lt;strong&gt;Heatmap&lt;/strong&gt;: Shows performance of all models across all metrics&lt;/li&gt;\\n&lt;li&gt;&lt;strong&gt;Scatter Plot&lt;/strong&gt;: Compares two specific metrics across models&lt;/li&gt;\\n&lt;/ul&gt;\\n\"}},{\"type\":\"object\",\"name\":\"Row\",\"id\":\"ade8a111-7dc6-4b1f-a94e-b6397c69cbbb\",\"attributes\":{\"name\":\"Row00131\",\"stylesheets\":[\"\\n:host(.pn-loading):before, .pn-loading:before {\\n  background-color: #c3c3c3;\\n  mask-size: auto calc(min(50%, 400px));\\n  -webkit-mask-size: auto calc(min(50%, 400px));\\n}\",{\"id\":\"6d27cdf4-ef8d-4f52-bef3-75c072bb67bd\"},{\"id\":\"56fc6702-5ed0-49b5-bb85-d57421dd6b69\"},{\"id\":\"0cc6dbc8-18f1-431b-a9ad-3eda759dd388\"},{\"id\":\"3f51ca6c-12a4-444f-b37d-7a38de3c9535\"}],\"margin\":0,\"align\":\"start\",\"children\":[{\"type\":\"object\",\"name\":\"panel.models.layout.Column\",\"id\":\"26ab297f-7223-445b-944c-25af9ae97b48\",\"attributes\":{\"name\":\"Column00130\",\"stylesheets\":[\"\\n:host(.pn-loading):before, .pn-loading:before {\\n  background-color: #c3c3c3;\\n  mask-size: auto calc(min(50%, 400px));\\n  -webkit-mask-size: auto calc(min(50%, 400px));\\n}\",{\"id\":\"6d27cdf4-ef8d-4f52-bef3-75c072bb67bd\"},{\"id\":\"56fc6702-5ed0-49b5-bb85-d57421dd6b69\"},{\"id\":\"0cc6dbc8-18f1-431b-a9ad-3eda759dd388\"},{\"id\":\"3f51ca6c-12a4-444f-b37d-7a38de3c9535\"}],\"width\":200,\"min_width\":200,\"margin\":0,\"align\":\"start\",\"children\":[{\"type\":\"object\",\"name\":\"panel.models.widgets.CustomSelect\",\"id\":\"8af49c82-7813-4c3f-9f03-d23b7d1c868b\",\"attributes\":{\"stylesheets\":[\"\\n:host(.pn-loading):before, .pn-loading:before {\\n  background-color: #c3c3c3;\\n  mask-size: auto calc(min(50%, 400px));\\n  -webkit-mask-size: auto calc(min(50%, 400px));\\n}\",{\"id\":\"6d27cdf4-ef8d-4f52-bef3-75c072bb67bd\"},{\"type\":\"object\",\"name\":\"ImportedStyleSheet\",\"id\":\"2e4182d1-3d47-4b37-b17d-e2f75de0c2a5\",\"attributes\":{\"url\":\"https://cdn.holoviz.org/panel/1.5.2/dist/css/select.css\"}},{\"id\":\"0cc6dbc8-18f1-431b-a9ad-3eda759dd388\"},{\"id\":\"3f51ca6c-12a4-444f-b37d-7a38de3c9535\"}],\"width\":160,\"min_width\":160,\"margin\":[5,10],\"align\":\"start\",\"title\":\"Template\",\"options\":[\"Local File (Infilling)\",\"Local File (Completion)\",\"Without Context\"],\"value\":\"Local File (Infilling)\"}},{\"type\":\"object\",\"name\":\"panel.models.widgets.CustomSelect\",\"id\":\"24e83b57-2e71-4ec6-a3cb-2f4f08533d92\",\"attributes\":{\"stylesheets\":[\"\\n:host(.pn-loading):before, .pn-loading:before {\\n  background-color: #c3c3c3;\\n  mask-size: auto calc(min(50%, 400px));\\n  -webkit-mask-size: auto calc(min(50%, 400px));\\n}\",{\"id\":\"6d27cdf4-ef8d-4f52-bef3-75c072bb67bd\"},{\"id\":\"2e4182d1-3d47-4b37-b17d-e2f75de0c2a5\"},{\"id\":\"0cc6dbc8-18f1-431b-a9ad-3eda759dd388\"},{\"id\":\"3f51ca6c-12a4-444f-b37d-7a38de3c9535\"}],\"width\":160,\"min_width\":160,\"margin\":[5,10],\"align\":\"start\",\"title\":\"Plot Type\",\"options\":[\"Heatmap\",\"Scatter Plot\"],\"value\":\"Heatmap\"}},{\"type\":\"object\",\"name\":\"panel.models.widgets.CustomSelect\",\"id\":\"b92d336f-ad5e-4994-b1e8-2f8b79876b59\",\"attributes\":{\"stylesheets\":[\"\\n:host(.pn-loading):before, .pn-loading:before {\\n  background-color: #c3c3c3;\\n  mask-size: auto calc(min(50%, 400px));\\n  -webkit-mask-size: auto calc(min(50%, 400px));\\n}\",{\"id\":\"6d27cdf4-ef8d-4f52-bef3-75c072bb67bd\"},{\"id\":\"2e4182d1-3d47-4b37-b17d-e2f75de0c2a5\"},{\"id\":\"0cc6dbc8-18f1-431b-a9ad-3eda759dd388\"},{\"id\":\"3f51ca6c-12a4-444f-b37d-7a38de3c9535\"}],\"width\":160,\"min_width\":160,\"margin\":[5,10],\"align\":\"start\",\"title\":\"X-Axis Metric\",\"options\":[\"pass@1\",\"pass@10\",\"pass@3\",\"pass@5\",\"recall@1\",\"recall@10\",\"recall@3\",\"recall@5\"],\"value\":\"pass@1\"}},{\"type\":\"object\",\"name\":\"panel.models.widgets.CustomSelect\",\"id\":\"d31d00c5-d283-444b-98b5-4bc699533733\",\"attributes\":{\"stylesheets\":[\"\\n:host(.pn-loading):before, .pn-loading:before {\\n  background-color: #c3c3c3;\\n  mask-size: auto calc(min(50%, 400px));\\n  -webkit-mask-size: auto calc(min(50%, 400px));\\n}\",{\"id\":\"6d27cdf4-ef8d-4f52-bef3-75c072bb67bd\"},{\"id\":\"2e4182d1-3d47-4b37-b17d-e2f75de0c2a5\"},{\"id\":\"0cc6dbc8-18f1-431b-a9ad-3eda759dd388\"},{\"id\":\"3f51ca6c-12a4-444f-b37d-7a38de3c9535\"}],\"width\":160,\"min_width\":160,\"margin\":[5,10],\"align\":\"start\",\"title\":\"Y-Axis Metric\",\"options\":[\"pass@1\",\"pass@10\",\"pass@3\",\"pass@5\",\"recall@1\",\"recall@10\",\"recall@3\",\"recall@5\"],\"value\":\"recall@1\"}}]}},{\"type\":\"object\",\"name\":\"panel.models.layout.Column\",\"id\":\"ce006e8c-635f-481a-b23d-e9b5494a98bc\",\"attributes\":{\"name\":\"Column00135\",\"stylesheets\":[\"\\n:host(.pn-loading):before, .pn-loading:before {\\n  background-color: #c3c3c3;\\n  mask-size: auto calc(min(50%, 400px));\\n  -webkit-mask-size: auto calc(min(50%, 400px));\\n}\",{\"id\":\"6d27cdf4-ef8d-4f52-bef3-75c072bb67bd\"},{\"id\":\"56fc6702-5ed0-49b5-bb85-d57421dd6b69\"},{\"id\":\"0cc6dbc8-18f1-431b-a9ad-3eda759dd388\"},{\"id\":\"3f51ca6c-12a4-444f-b37d-7a38de3c9535\"}],\"margin\":0,\"align\":\"start\",\"children\":[{\"type\":\"object\",\"name\":\"panel.models.plotly.PlotlyPlot\",\"id\":\"977fda6e-7429-4e75-b63d-004954983f7a\",\"attributes\":{\"name\":\"Plotly00136\",\"subscribed_events\":{\"type\":\"set\",\"entries\":[\"plotly_event\"]},\"stylesheets\":[\"\\n:host(.pn-loading):before, .pn-loading:before {\\n  background-color: #c3c3c3;\\n  mask-size: auto calc(min(50%, 400px));\\n  -webkit-mask-size: auto calc(min(50%, 400px));\\n}\",{\"id\":\"6d27cdf4-ef8d-4f52-bef3-75c072bb67bd\"},{\"type\":\"object\",\"name\":\"ImportedStyleSheet\",\"id\":\"b26bd511-474c-496d-a64b-24a6a9b0bd14\",\"attributes\":{\"url\":\"https://cdn.holoviz.org/panel/1.5.2/dist/bundled/plotlyplot/mapbox-gl-js/v3.0.1/mapbox-gl.css\"}},{\"id\":\"0cc6dbc8-18f1-431b-a9ad-3eda759dd388\"},{\"id\":\"3f51ca6c-12a4-444f-b37d-7a38de3c9535\"},\":host { --plotly-icon-color: gray; --plotly-active-icon-color: #2a3f5f; }\"],\"margin\":[5,10],\"align\":\"start\",\"data\":[{\"type\":\"map\",\"entries\":[[\"colorbar\",{\"type\":\"map\",\"entries\":[[\"title\",{\"type\":\"map\",\"entries\":[[\"text\",\"Value\"]]}]]}],[\"colorscale\",[[0.0,\"#440154\"],[0.1111111111111111,\"#482878\"],[0.2222222222222222,\"#3e4989\"],[0.3333333333333333,\"#31688e\"],[0.4444444444444444,\"#26828e\"],[0.5555555555555556,\"#1f9e89\"],[0.6666666666666666,\"#35b779\"],[0.7777777777777778,\"#6ece58\"],[0.8888888888888888,\"#b5de2b\"],[1.0,\"#fde725\"]]],[\"hoverongaps\",false],[\"type\",\"heatmap\"]]}],\"layout\":{\"type\":\"map\",\"entries\":[[\"template\",{\"type\":\"map\",\"entries\":[[\"data\",{\"type\":\"map\",\"entries\":[[\"histogram2dcontour\",[{\"type\":\"map\",\"entries\":[[\"type\",\"histogram2dcontour\"],[\"colorbar\",{\"type\":\"map\",\"entries\":[[\"outlinewidth\",0],[\"ticks\",\"\"]]}],[\"colorscale\",[[0.0,\"#0d0887\"],[0.1111111111111111,\"#46039f\"],[0.2222222222222222,\"#7201a8\"],[0.3333333333333333,\"#9c179e\"],[0.4444444444444444,\"#bd3786\"],[0.5555555555555556,\"#d8576b\"],[0.6666666666666666,\"#ed7953\"],[0.7777777777777778,\"#fb9f3a\"],[0.8888888888888888,\"#fdca26\"],[1.0,\"#f0f921\"]]]]}]],[\"choropleth\",[{\"type\":\"map\",\"entries\":[[\"type\",\"choropleth\"],[\"colorbar\",{\"type\":\"map\",\"entries\":[[\"outlinewidth\",0],[\"ticks\",\"\"]]}]]}]],[\"histogram2d\",[{\"type\":\"map\",\"entries\":[[\"type\",\"histogram2d\"],[\"colorbar\",{\"type\":\"map\",\"entries\":[[\"outlinewidth\",0],[\"ticks\",\"\"]]}],[\"colorscale\",[[0.0,\"#0d0887\"],[0.1111111111111111,\"#46039f\"],[0.2222222222222222,\"#7201a8\"],[0.3333333333333333,\"#9c179e\"],[0.4444444444444444,\"#bd3786\"],[0.5555555555555556,\"#d8576b\"],[0.6666666666666666,\"#ed7953\"],[0.7777777777777778,\"#fb9f3a\"],[0.8888888888888888,\"#fdca26\"],[1.0,\"#f0f921\"]]]]}]],[\"heatmap\",[{\"type\":\"map\",\"entries\":[[\"type\",\"heatmap\"],[\"colorbar\",{\"type\":\"map\",\"entries\":[[\"outlinewidth\",0],[\"ticks\",\"\"]]}],[\"colorscale\",[[0.0,\"#0d0887\"],[0.1111111111111111,\"#46039f\"],[0.2222222222222222,\"#7201a8\"],[0.3333333333333333,\"#9c179e\"],[0.4444444444444444,\"#bd3786\"],[0.5555555555555556,\"#d8576b\"],[0.6666666666666666,\"#ed7953\"],[0.7777777777777778,\"#fb9f3a\"],[0.8888888888888888,\"#fdca26\"],[1.0,\"#f0f921\"]]]]}]],[\"heatmapgl\",[{\"type\":\"map\",\"entries\":[[\"type\",\"heatmapgl\"],[\"colorbar\",{\"type\":\"map\",\"entries\":[[\"outlinewidth\",0],[\"ticks\",\"\"]]}],[\"colorscale\",[[0.0,\"#0d0887\"],[0.1111111111111111,\"#46039f\"],[0.2222222222222222,\"#7201a8\"],[0.3333333333333333,\"#9c179e\"],[0.4444444444444444,\"#bd3786\"],[0.5555555555555556,\"#d8576b\"],[0.6666666666666666,\"#ed7953\"],[0.7777777777777778,\"#fb9f3a\"],[0.8888888888888888,\"#fdca26\"],[1.0,\"#f0f921\"]]]]}]],[\"contourcarpet\",[{\"type\":\"map\",\"entries\":[[\"type\",\"contourcarpet\"],[\"colorbar\",{\"type\":\"map\",\"entries\":[[\"outlinewidth\",0],[\"ticks\",\"\"]]}]]}]],[\"contour\",[{\"type\":\"map\",\"entries\":[[\"type\",\"contour\"],[\"colorbar\",{\"type\":\"map\",\"entries\":[[\"outlinewidth\",0],[\"ticks\",\"\"]]}],[\"colorscale\",[[0.0,\"#0d0887\"],[0.1111111111111111,\"#46039f\"],[0.2222222222222222,\"#7201a8\"],[0.3333333333333333,\"#9c179e\"],[0.4444444444444444,\"#bd3786\"],[0.5555555555555556,\"#d8576b\"],[0.6666666666666666,\"#ed7953\"],[0.7777777777777778,\"#fb9f3a\"],[0.8888888888888888,\"#fdca26\"],[1.0,\"#f0f921\"]]]]}]],[\"surface\",[{\"type\":\"map\",\"entries\":[[\"type\",\"surface\"],[\"colorbar\",{\"type\":\"map\",\"entries\":[[\"outlinewidth\",0],[\"ticks\",\"\"]]}],[\"colorscale\",[[0.0,\"#0d0887\"],[0.1111111111111111,\"#46039f\"],[0.2222222222222222,\"#7201a8\"],[0.3333333333333333,\"#9c179e\"],[0.4444444444444444,\"#bd3786\"],[0.5555555555555556,\"#d8576b\"],[0.6666666666666666,\"#ed7953\"],[0.7777777777777778,\"#fb9f3a\"],[0.8888888888888888,\"#fdca26\"],[1.0,\"#f0f921\"]]]]}]],[\"mesh3d\",[{\"type\":\"map\",\"entries\":[[\"type\",\"mesh3d\"],[\"colorbar\",{\"type\":\"map\",\"entries\":[[\"outlinewidth\",0],[\"ticks\",\"\"]]}]]}]],[\"scatter\",[{\"type\":\"map\",\"entries\":[[\"fillpattern\",{\"type\":\"map\",\"entries\":[[\"fillmode\",\"overlay\"],[\"size\",10],[\"solidity\",0.2]]}],[\"type\",\"scatter\"]]}]],[\"parcoords\",[{\"type\":\"map\",\"entries\":[[\"type\",\"parcoords\"],[\"line\",{\"type\":\"map\",\"entries\":[[\"colorbar\",{\"type\":\"map\",\"entries\":[[\"outlinewidth\",0],[\"ticks\",\"\"]]}]]}]]}]],[\"scatterpolargl\",[{\"type\":\"map\",\"entries\":[[\"type\",\"scatterpolargl\"],[\"marker\",{\"type\":\"map\",\"entries\":[[\"colorbar\",{\"type\":\"map\",\"entries\":[[\"outlinewidth\",0],[\"ticks\",\"\"]]}]]}]]}]],[\"bar\",[{\"type\":\"map\",\"entries\":[[\"error_x\",{\"type\":\"map\",\"entries\":[[\"color\",\"#2a3f5f\"]]}],[\"error_y\",{\"type\":\"map\",\"entries\":[[\"color\",\"#2a3f5f\"]]}],[\"marker\",{\"type\":\"map\",\"entries\":[[\"line\",{\"type\":\"map\",\"entries\":[[\"color\",\"#E5ECF6\"],[\"width\",0.5]]}],[\"pattern\",{\"type\":\"map\",\"entries\":[[\"fillmode\",\"overlay\"],[\"size\",10],[\"solidity\",0.2]]}]]}],[\"type\",\"bar\"]]}]],[\"scattergeo\",[{\"type\":\"map\",\"entries\":[[\"type\",\"scattergeo\"],[\"marker\",{\"type\":\"map\",\"entries\":[[\"colorbar\",{\"type\":\"map\",\"entries\":[[\"outlinewidth\",0],[\"ticks\",\"\"]]}]]}]]}]],[\"scatterpolar\",[{\"type\":\"map\",\"entries\":[[\"type\",\"scatterpolar\"],[\"marker\",{\"type\":\"map\",\"entries\":[[\"colorbar\",{\"type\":\"map\",\"entries\":[[\"outlinewidth\",0],[\"ticks\",\"\"]]}]]}]]}]],[\"histogram\",[{\"type\":\"map\",\"entries\":[[\"marker\",{\"type\":\"map\",\"entries\":[[\"pattern\",{\"type\":\"map\",\"entries\":[[\"fillmode\",\"overlay\"],[\"size\",10],[\"solidity\",0.2]]}]]}],[\"type\",\"histogram\"]]}]],[\"scattergl\",[{\"type\":\"map\",\"entries\":[[\"type\",\"scattergl\"],[\"marker\",{\"type\":\"map\",\"entries\":[[\"colorbar\",{\"type\":\"map\",\"entries\":[[\"outlinewidth\",0],[\"ticks\",\"\"]]}]]}]]}]],[\"scatter3d\",[{\"type\":\"map\",\"entries\":[[\"type\",\"scatter3d\"],[\"line\",{\"type\":\"map\",\"entries\":[[\"colorbar\",{\"type\":\"map\",\"entries\":[[\"outlinewidth\",0],[\"ticks\",\"\"]]}]]}],[\"marker\",{\"type\":\"map\",\"entries\":[[\"colorbar\",{\"type\":\"map\",\"entries\":[[\"outlinewidth\",0],[\"ticks\",\"\"]]}]]}]]}]],[\"scattermapbox\",[{\"type\":\"map\",\"entries\":[[\"type\",\"scattermapbox\"],[\"marker\",{\"type\":\"map\",\"entries\":[[\"colorbar\",{\"type\":\"map\",\"entries\":[[\"outlinewidth\",0],[\"ticks\",\"\"]]}]]}]]}]],[\"scatterternary\",[{\"type\":\"map\",\"entries\":[[\"type\",\"scatterternary\"],[\"marker\",{\"type\":\"map\",\"entries\":[[\"colorbar\",{\"type\":\"map\",\"entries\":[[\"outlinewidth\",0],[\"ticks\",\"\"]]}]]}]]}]],[\"scattercarpet\",[{\"type\":\"map\",\"entries\":[[\"type\",\"scattercarpet\"],[\"marker\",{\"type\":\"map\",\"entries\":[[\"colorbar\",{\"type\":\"map\",\"entries\":[[\"outlinewidth\",0],[\"ticks\",\"\"]]}]]}]]}]],[\"carpet\",[{\"type\":\"map\",\"entries\":[[\"aaxis\",{\"type\":\"map\",\"entries\":[[\"endlinecolor\",\"#2a3f5f\"],[\"gridcolor\",\"white\"],[\"linecolor\",\"white\"],[\"minorgridcolor\",\"white\"],[\"startlinecolor\",\"#2a3f5f\"]]}],[\"baxis\",{\"type\":\"map\",\"entries\":[[\"endlinecolor\",\"#2a3f5f\"],[\"gridcolor\",\"white\"],[\"linecolor\",\"white\"],[\"minorgridcolor\",\"white\"],[\"startlinecolor\",\"#2a3f5f\"]]}],[\"type\",\"carpet\"]]}]],[\"table\",[{\"type\":\"map\",\"entries\":[[\"cells\",{\"type\":\"map\",\"entries\":[[\"fill\",{\"type\":\"map\",\"entries\":[[\"color\",\"#EBF0F8\"]]}],[\"line\",{\"type\":\"map\",\"entries\":[[\"color\",\"white\"]]}]]}],[\"header\",{\"type\":\"map\",\"entries\":[[\"fill\",{\"type\":\"map\",\"entries\":[[\"color\",\"#C8D4E3\"]]}],[\"line\",{\"type\":\"map\",\"entries\":[[\"color\",\"white\"]]}]]}],[\"type\",\"table\"]]}]],[\"barpolar\",[{\"type\":\"map\",\"entries\":[[\"marker\",{\"type\":\"map\",\"entries\":[[\"line\",{\"type\":\"map\",\"entries\":[[\"color\",\"#E5ECF6\"],[\"width\",0.5]]}],[\"pattern\",{\"type\":\"map\",\"entries\":[[\"fillmode\",\"overlay\"],[\"size\",10],[\"solidity\",0.2]]}]]}],[\"type\",\"barpolar\"]]}]],[\"pie\",[{\"type\":\"map\",\"entries\":[[\"automargin\",true],[\"type\",\"pie\"]]}]]]}],[\"layout\",{\"type\":\"map\",\"entries\":[[\"autotypenumbers\",\"strict\"],[\"colorway\",[\"#636efa\",\"#EF553B\",\"#00cc96\",\"#ab63fa\",\"#FFA15A\",\"#19d3f3\",\"#FF6692\",\"#B6E880\",\"#FF97FF\",\"#FECB52\"]],[\"font\",{\"type\":\"map\",\"entries\":[[\"color\",\"#2a3f5f\"]]}],[\"hovermode\",\"closest\"],[\"hoverlabel\",{\"type\":\"map\",\"entries\":[[\"align\",\"left\"]]}],[\"paper_bgcolor\",\"white\"],[\"plot_bgcolor\",\"#E5ECF6\"],[\"polar\",{\"type\":\"map\",\"entries\":[[\"bgcolor\",\"#E5ECF6\"],[\"angularaxis\",{\"type\":\"map\",\"entries\":[[\"gridcolor\",\"white\"],[\"linecolor\",\"white\"],[\"ticks\",\"\"]]}],[\"radialaxis\",{\"type\":\"map\",\"entries\":[[\"gridcolor\",\"white\"],[\"linecolor\",\"white\"],[\"ticks\",\"\"]]}]]}],[\"ternary\",{\"type\":\"map\",\"entries\":[[\"bgcolor\",\"#E5ECF6\"],[\"aaxis\",{\"type\":\"map\",\"entries\":[[\"gridcolor\",\"white\"],[\"linecolor\",\"white\"],[\"ticks\",\"\"]]}],[\"baxis\",{\"type\":\"map\",\"entries\":[[\"gridcolor\",\"white\"],[\"linecolor\",\"white\"],[\"ticks\",\"\"]]}],[\"caxis\",{\"type\":\"map\",\"entries\":[[\"gridcolor\",\"white\"],[\"linecolor\",\"white\"],[\"ticks\",\"\"]]}]]}],[\"coloraxis\",{\"type\":\"map\",\"entries\":[[\"colorbar\",{\"type\":\"map\",\"entries\":[[\"outlinewidth\",0],[\"ticks\",\"\"]]}]]}],[\"colorscale\",{\"type\":\"map\",\"entries\":[[\"sequential\",[[0.0,\"#0d0887\"],[0.1111111111111111,\"#46039f\"],[0.2222222222222222,\"#7201a8\"],[0.3333333333333333,\"#9c179e\"],[0.4444444444444444,\"#bd3786\"],[0.5555555555555556,\"#d8576b\"],[0.6666666666666666,\"#ed7953\"],[0.7777777777777778,\"#fb9f3a\"],[0.8888888888888888,\"#fdca26\"],[1.0,\"#f0f921\"]]],[\"sequentialminus\",[[0.0,\"#0d0887\"],[0.1111111111111111,\"#46039f\"],[0.2222222222222222,\"#7201a8\"],[0.3333333333333333,\"#9c179e\"],[0.4444444444444444,\"#bd3786\"],[0.5555555555555556,\"#d8576b\"],[0.6666666666666666,\"#ed7953\"],[0.7777777777777778,\"#fb9f3a\"],[0.8888888888888888,\"#fdca26\"],[1.0,\"#f0f921\"]]],[\"diverging\",[[0,\"#8e0152\"],[0.1,\"#c51b7d\"],[0.2,\"#de77ae\"],[0.3,\"#f1b6da\"],[0.4,\"#fde0ef\"],[0.5,\"#f7f7f7\"],[0.6,\"#e6f5d0\"],[0.7,\"#b8e186\"],[0.8,\"#7fbc41\"],[0.9,\"#4d9221\"],[1,\"#276419\"]]]]}],[\"xaxis\",{\"type\":\"map\",\"entries\":[[\"gridcolor\",\"white\"],[\"linecolor\",\"white\"],[\"ticks\",\"\"],[\"title\",{\"type\":\"map\",\"entries\":[[\"standoff\",15]]}],[\"zerolinecolor\",\"white\"],[\"automargin\",true],[\"zerolinewidth\",2]]}],[\"yaxis\",{\"type\":\"map\",\"entries\":[[\"gridcolor\",\"white\"],[\"linecolor\",\"white\"],[\"ticks\",\"\"],[\"title\",{\"type\":\"map\",\"entries\":[[\"standoff\",15]]}],[\"zerolinecolor\",\"white\"],[\"automargin\",true],[\"zerolinewidth\",2]]}],[\"scene\",{\"type\":\"map\",\"entries\":[[\"xaxis\",{\"type\":\"map\",\"entries\":[[\"backgroundcolor\",\"#E5ECF6\"],[\"gridcolor\",\"white\"],[\"linecolor\",\"white\"],[\"showbackground\",true],[\"ticks\",\"\"],[\"zerolinecolor\",\"white\"],[\"gridwidth\",2]]}],[\"yaxis\",{\"type\":\"map\",\"entries\":[[\"backgroundcolor\",\"#E5ECF6\"],[\"gridcolor\",\"white\"],[\"linecolor\",\"white\"],[\"showbackground\",true],[\"ticks\",\"\"],[\"zerolinecolor\",\"white\"],[\"gridwidth\",2]]}],[\"zaxis\",{\"type\":\"map\",\"entries\":[[\"backgroundcolor\",\"#E5ECF6\"],[\"gridcolor\",\"white\"],[\"linecolor\",\"white\"],[\"showbackground\",true],[\"ticks\",\"\"],[\"zerolinecolor\",\"white\"],[\"gridwidth\",2]]}]]}],[\"shapedefaults\",{\"type\":\"map\",\"entries\":[[\"line\",{\"type\":\"map\",\"entries\":[[\"color\",\"#2a3f5f\"]]}]]}],[\"annotationdefaults\",{\"type\":\"map\",\"entries\":[[\"arrowcolor\",\"#2a3f5f\"],[\"arrowhead\",0],[\"arrowwidth\",1]]}],[\"geo\",{\"type\":\"map\",\"entries\":[[\"bgcolor\",\"white\"],[\"landcolor\",\"#E5ECF6\"],[\"subunitcolor\",\"white\"],[\"showland\",true],[\"showlakes\",true],[\"lakecolor\",\"white\"]]}],[\"title\",{\"type\":\"map\",\"entries\":[[\"x\",0.05]]}],[\"mapbox\",{\"type\":\"map\",\"entries\":[[\"style\",\"light\"]]}]]}]]}],[\"title\",{\"type\":\"map\",\"entries\":[[\"text\",\"Model Performance Heatmap\"]]}],[\"xaxis\",{\"type\":\"map\",\"entries\":[[\"title\",{\"type\":\"map\",\"entries\":[[\"text\",\"Metrics\"]]}]]}],[\"yaxis\",{\"type\":\"map\",\"entries\":[[\"title\",{\"type\":\"map\",\"entries\":[[\"text\",\"Models\"]]}]]}],[\"height\",500]]},\"data_sources\":[{\"type\":\"object\",\"name\":\"ColumnDataSource\",\"id\":\"cab627ce-f784-411b-bda3-84dc09cd54e9\",\"attributes\":{\"selected\":{\"type\":\"object\",\"name\":\"Selection\",\"id\":\"0ce20c17-f3ba-4706-93bc-03fb5acd8c7a\",\"attributes\":{\"indices\":[],\"line_indices\":[]}},\"selection_policy\":{\"type\":\"object\",\"name\":\"UnionRenderers\",\"id\":\"b1735db5-c8ea-4979-a1e5-684870098e38\"},\"data\":{\"type\":\"map\",\"entries\":[[\"x\",[{\"type\":\"ndarray\",\"array\":[\"pass@1\",\"pass@10\",\"pass@3\",\"pass@5\",\"recall@1\",\"recall@10\",\"recall@3\",\"recall@5\"],\"shape\":[8],\"dtype\":\"object\",\"order\":\"little\"}]],[\"y\",[{\"type\":\"ndarray\",\"array\":[\"DeepSeek Coder (33B)\",\"DeepSeek Coder (6.7B)\",\"StarCoder 2 (15B)\",\"StarCoder 2 (7B)\",\"gpt-3.5\",\"gpt-4\"],\"shape\":[6],\"dtype\":\"object\",\"order\":\"little\"}]],[\"z\",[{\"type\":\"ndarray\",\"array\":{\"type\":\"bytes\",\"data\":\"pHA9CtejM0DD9ShcjwI6QEjhehSuxzZACtejcD1KOEA9CtejcN1RQAAAAAAAkFVA7FG4HoX7U0DXo3A9CodUQOF6FK5HYTFAuB6F61H4N0CF61G4HgU1QGZmZmZmZjZAhetRuB5lUUCuR+F6FM5UQMP1KFyPglJAAAAAAACAU0BSuB6F69EtQFyPwvUo3DNACtejcD2KMUDhehSuR6EyQDMzMzMzc0lA4XoUrkfhTkCF61G4HqVKQFK4HoXr8UtACtejcD2KLkDXo3A9Chc0QArXo3A9SjFA4XoUrkehMkDNzMzMzCxMQM3MzMzMjFJA7FG4HoVLTkAfhetRuN5PQFK4HoXr0TFA9ihcj8J1OEBI4XoUrsc1QI/C9ShcDzdAuB6F61H4TkBmZmZmZrZRQLgehetRCFFAXI/C9ShsUUB7FK5H4bo0QNejcD0KVzlASOF6FK4HN0Bcj8L1KBw4QI/C9ShcD1FA4XoUrkdhUkC4HoXrUahRQDMzMzMzA1JA\"},\"shape\":[6,8],\"dtype\":\"float64\",\"order\":\"little\"}]]]}}}],\"relayout\":null,\"restyle\":null,\"viewport_update_throttle\":200}}]}}]}}]}},{\"type\":\"object\",\"name\":\"panel.models.comm_manager.CommManager\",\"id\":\"4802abd5-6b3f-4c23-b6c2-548c6285c42f\",\"attributes\":{\"plot_id\":\"962ff06a-08aa-4013-87bb-07d001b3485d\",\"comm_id\":\"090e7b5b544d44dd80a77155c792c517\",\"client_comm_id\":\"33bfe442153243c1b788f1450523bacf\"}}],\"defs\":[{\"type\":\"model\",\"name\":\"ReactiveHTML1\"},{\"type\":\"model\",\"name\":\"FlexBox1\",\"properties\":[{\"name\":\"align_content\",\"kind\":\"Any\",\"default\":\"flex-start\"},{\"name\":\"align_items\",\"kind\":\"Any\",\"default\":\"flex-start\"},{\"name\":\"flex_direction\",\"kind\":\"Any\",\"default\":\"row\"},{\"name\":\"flex_wrap\",\"kind\":\"Any\",\"default\":\"wrap\"},{\"name\":\"gap\",\"kind\":\"Any\",\"default\":\"\"},{\"name\":\"justify_content\",\"kind\":\"Any\",\"default\":\"flex-start\"}]},{\"type\":\"model\",\"name\":\"FloatPanel1\",\"properties\":[{\"name\":\"config\",\"kind\":\"Any\",\"default\":{\"type\":\"map\"}},{\"name\":\"contained\",\"kind\":\"Any\",\"default\":true},{\"name\":\"position\",\"kind\":\"Any\",\"default\":\"right-top\"},{\"name\":\"offsetx\",\"kind\":\"Any\",\"default\":null},{\"name\":\"offsety\",\"kind\":\"Any\",\"default\":null},{\"name\":\"theme\",\"kind\":\"Any\",\"default\":\"primary\"},{\"name\":\"status\",\"kind\":\"Any\",\"default\":\"normalized\"}]},{\"type\":\"model\",\"name\":\"GridStack1\",\"properties\":[{\"name\":\"mode\",\"kind\":\"Any\",\"default\":\"warn\"},{\"name\":\"ncols\",\"kind\":\"Any\",\"default\":null},{\"name\":\"nrows\",\"kind\":\"Any\",\"default\":null},{\"name\":\"allow_resize\",\"kind\":\"Any\",\"default\":true},{\"name\":\"allow_drag\",\"kind\":\"Any\",\"default\":true},{\"name\":\"state\",\"kind\":\"Any\",\"default\":[]}]},{\"type\":\"model\",\"name\":\"drag1\",\"properties\":[{\"name\":\"slider_width\",\"kind\":\"Any\",\"default\":5},{\"name\":\"slider_color\",\"kind\":\"Any\",\"default\":\"black\"},{\"name\":\"value\",\"kind\":\"Any\",\"default\":50}]},{\"type\":\"model\",\"name\":\"click1\",\"properties\":[{\"name\":\"terminal_output\",\"kind\":\"Any\",\"default\":\"\"},{\"name\":\"debug_name\",\"kind\":\"Any\",\"default\":\"\"},{\"name\":\"clears\",\"kind\":\"Any\",\"default\":0}]},{\"type\":\"model\",\"name\":\"FastWrapper1\",\"properties\":[{\"name\":\"object\",\"kind\":\"Any\",\"default\":null},{\"name\":\"style\",\"kind\":\"Any\",\"default\":null}]},{\"type\":\"model\",\"name\":\"NotificationAreaBase1\",\"properties\":[{\"name\":\"js_events\",\"kind\":\"Any\",\"default\":{\"type\":\"map\"}},{\"name\":\"position\",\"kind\":\"Any\",\"default\":\"bottom-right\"},{\"name\":\"_clear\",\"kind\":\"Any\",\"default\":0}]},{\"type\":\"model\",\"name\":\"NotificationArea1\",\"properties\":[{\"name\":\"js_events\",\"kind\":\"Any\",\"default\":{\"type\":\"map\"}},{\"name\":\"notifications\",\"kind\":\"Any\",\"default\":[]},{\"name\":\"position\",\"kind\":\"Any\",\"default\":\"bottom-right\"},{\"name\":\"_clear\",\"kind\":\"Any\",\"default\":0},{\"name\":\"types\",\"kind\":\"Any\",\"default\":[{\"type\":\"map\",\"entries\":[[\"type\",\"warning\"],[\"background\",\"#ffc107\"],[\"icon\",{\"type\":\"map\",\"entries\":[[\"className\",\"fas fa-exclamation-triangle\"],[\"tagName\",\"i\"],[\"color\",\"white\"]]}]]},{\"type\":\"map\",\"entries\":[[\"type\",\"info\"],[\"background\",\"#007bff\"],[\"icon\",{\"type\":\"map\",\"entries\":[[\"className\",\"fas fa-info-circle\"],[\"tagName\",\"i\"],[\"color\",\"white\"]]}]]}]}]},{\"type\":\"model\",\"name\":\"Notification\",\"properties\":[{\"name\":\"background\",\"kind\":\"Any\",\"default\":null},{\"name\":\"duration\",\"kind\":\"Any\",\"default\":3000},{\"name\":\"icon\",\"kind\":\"Any\",\"default\":null},{\"name\":\"message\",\"kind\":\"Any\",\"default\":\"\"},{\"name\":\"notification_type\",\"kind\":\"Any\",\"default\":null},{\"name\":\"_destroyed\",\"kind\":\"Any\",\"default\":false}]},{\"type\":\"model\",\"name\":\"TemplateActions1\",\"properties\":[{\"name\":\"open_modal\",\"kind\":\"Any\",\"default\":0},{\"name\":\"close_modal\",\"kind\":\"Any\",\"default\":0}]},{\"type\":\"model\",\"name\":\"BootstrapTemplateActions1\",\"properties\":[{\"name\":\"open_modal\",\"kind\":\"Any\",\"default\":0},{\"name\":\"close_modal\",\"kind\":\"Any\",\"default\":0}]},{\"type\":\"model\",\"name\":\"TemplateEditor1\",\"properties\":[{\"name\":\"layout\",\"kind\":\"Any\",\"default\":[]}]},{\"type\":\"model\",\"name\":\"MaterialTemplateActions1\",\"properties\":[{\"name\":\"open_modal\",\"kind\":\"Any\",\"default\":0},{\"name\":\"close_modal\",\"kind\":\"Any\",\"default\":0}]},{\"type\":\"model\",\"name\":\"ReactiveESM1\"},{\"type\":\"model\",\"name\":\"JSComponent1\"},{\"type\":\"model\",\"name\":\"ReactComponent1\"},{\"type\":\"model\",\"name\":\"AnyWidgetComponent1\"},{\"type\":\"model\",\"name\":\"request_value1\",\"properties\":[{\"name\":\"fill\",\"kind\":\"Any\",\"default\":\"none\"},{\"name\":\"_synced\",\"kind\":\"Any\",\"default\":null},{\"name\":\"_request_sync\",\"kind\":\"Any\",\"default\":0}]}]}};\n",
       "  var render_items = [{\"docid\":\"bec46444-c432-4c62-aeb4-ff20fc594346\",\"roots\":{\"962ff06a-08aa-4013-87bb-07d001b3485d\":\"d64dd3e7-3d56-40a4-878f-df429d66acf5\"},\"root_ids\":[\"962ff06a-08aa-4013-87bb-07d001b3485d\"]}];\n",
       "  var docs = Object.values(docs_json)\n",
       "  if (!docs) {\n",
       "    return\n",
       "  }\n",
       "  const py_version = docs[0].version.replace('rc', '-rc.').replace('.dev', '-dev.')\n",
       "  async function embed_document(root) {\n",
       "    var Bokeh = get_bokeh(root)\n",
       "    await Bokeh.embed.embed_items_notebook(docs_json, render_items);\n",
       "    for (const render_item of render_items) {\n",
       "      for (const root_id of render_item.root_ids) {\n",
       "\tconst id_el = document.getElementById(root_id)\n",
       "\tif (id_el.children.length && id_el.children[0].hasAttribute('data-root-id')) {\n",
       "\t  const root_el = id_el.children[0]\n",
       "\t  root_el.id = root_el.id + '-rendered'\n",
       "\t  for (const child of root_el.children) {\n",
       "            // Ensure JupyterLab does not capture keyboard shortcuts\n",
       "            // see: https://jupyterlab.readthedocs.io/en/4.1.x/extension/notebook.html#keyboard-interaction-model\n",
       "\t    child.setAttribute('data-lm-suppress-shortcuts', 'true')\n",
       "\t  }\n",
       "\t}\n",
       "      }\n",
       "    }\n",
       "  }\n",
       "  function get_bokeh(root) {\n",
       "    if (root.Bokeh === undefined) {\n",
       "      return null\n",
       "    } else if (root.Bokeh.version !== py_version) {\n",
       "      if (root.Bokeh.versions === undefined || !root.Bokeh.versions.has(py_version)) {\n",
       "\treturn null\n",
       "      }\n",
       "      return root.Bokeh.versions.get(py_version);\n",
       "    } else if (root.Bokeh.version === py_version) {\n",
       "      return root.Bokeh\n",
       "    }\n",
       "    return null\n",
       "  }\n",
       "  function is_loaded(root) {\n",
       "    var Bokeh = get_bokeh(root)\n",
       "    return (Bokeh != null && Bokeh.Panel !== undefined && ( root.Plotly !== undefined) && ( root.Plotly !== undefined))\n",
       "  }\n",
       "  if (is_loaded(root)) {\n",
       "    embed_document(root);\n",
       "  } else {\n",
       "    var attempts = 0;\n",
       "    var timer = setInterval(function(root) {\n",
       "      if (is_loaded(root)) {\n",
       "        clearInterval(timer);\n",
       "        embed_document(root);\n",
       "      } else if (document.readyState == \"complete\") {\n",
       "        attempts++;\n",
       "        if (attempts > 200) {\n",
       "          clearInterval(timer);\n",
       "\t  var Bokeh = get_bokeh(root)\n",
       "\t  if (Bokeh == null || Bokeh.Panel == null) {\n",
       "            console.warn(\"Panel: ERROR: Unable to run Panel code because Bokeh or Panel library is missing\");\n",
       "\t  } else {\n",
       "\t    console.warn(\"Panel: WARNING: Attempting to render but not all required libraries could be resolved.\")\n",
       "\t    embed_document(root)\n",
       "\t  }\n",
       "        }\n",
       "      }\n",
       "    }, 25, root)\n",
       "  }\n",
       "})(window);</script>"
      ],
      "text/plain": [
       "Column(width=800)\n",
       "    [0] Markdown(str)\n",
       "    [1] Row\n",
       "        [0] Column(width=200)\n",
       "            [0] Select(name='Template', options=['Local File (Infilling)',...], value='Local File (Infilling)', width=160)\n",
       "            [1] Select(name='Plot Type', options=['Heatmap', 'Scatter P...], value='Heatmap', width=160)\n",
       "            [2] Select(name='X-Axis Metric', options=['pass@1', 'pass@10', ...], value='pass@1', width=160)\n",
       "            [3] Select(name='Y-Axis Metric', options=['pass@1', 'pass@10', ...], value='recall@1', width=160)\n",
       "        [1] ParamFunction(function, _pane=Plotly, defer_load=False)"
      ]
     },
     "execution_count": 29,
     "metadata": {
      "application/vnd.holoviews_exec.v0+json": {
       "id": "962ff06a-08aa-4013-87bb-07d001b3485d"
      }
     },
     "output_type": "execute_result"
    }
   ],
   "source": [
    "description = pn.pane.Markdown(\"\"\"\n",
    "## Model Performance Visualization\n",
    "Select parameters below to visualize model performance across different metrics.\n",
    "- **Heatmap**: Shows performance of all models across all metrics\n",
    "- **Scatter Plot**: Compares two specific metrics across models\n",
    "\"\"\")\n",
    "\n",
    "# Create the layout for the dashboard\n",
    "controls = pn.Column(\n",
    "    template,\n",
    "    plot_type,\n",
    "    x_metric,\n",
    "    y_metric,\n",
    "    width=200\n",
    ")\n",
    "\n",
    "# Create the dashboard layout\n",
    "dashboard = pn.Column(\n",
    "    description,\n",
    "    pn.Row(controls, create_visualization),\n",
    "    width=800\n",
    ")\n",
    "\n",
    "# Serve the dashboard\n",
    "dashboard.servable()"
   ]
  }
 ],
 "metadata": {
  "kernelspec": {
   "display_name": "Python 3 (ipykernel)",
   "language": "python",
   "name": "python3"
  },
  "language_info": {
   "codemirror_mode": {
    "name": "ipython",
    "version": 3
   },
   "file_extension": ".py",
   "mimetype": "text/x-python",
   "name": "python",
   "nbconvert_exporter": "python",
   "pygments_lexer": "ipython3",
   "version": "3.12.3"
  }
 },
 "nbformat": 4,
 "nbformat_minor": 4
}
